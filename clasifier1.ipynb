{
 "cells": [
  {
   "cell_type": "code",
   "execution_count": 1,
   "metadata": {},
   "outputs": [],
   "source": [
    "#website UI and conspiracy theory classifier\n",
    "\n",
    "import matplotlib.pyplot as plt\n",
    "import numpy as np\n",
    "import pandas as pd\n",
    "\n",
    "from sklearn.pipeline import Pipeline\n",
    "from sklearn.feature_extraction.text import TfidfVectorizer\n",
    "\n",
    "from sklearn.model_selection import train_test_split\n",
    "\n",
    "# from sklearn.neighbors import KNeighborsClassifier\n",
    "from sklearn.linear_model import LogisticRegression\n",
    "from sklearn.ensemble import RandomForestClassifier"
   ]
  },
  {
   "cell_type": "code",
   "execution_count": 2,
   "metadata": {},
   "outputs": [
    {
     "name": "stdout",
     "output_type": "stream",
     "text": [
      "                                                         title  \\\n",
      "60Bp0qJvvqA  The Second Book of Enoch (Human Voice, Read-Al...   \n",
      "KP6SZFQUDTs  Pastor David Lynn Schools a Muslim On Isaiah 4...   \n",
      "SOpvCubaIx0  Obama's Best Comebacks and Rebuttal Moments - ...   \n",
      "Cb1EDmVtg5M  BLACK MAN in a MAGA Hat & American Exceptional...   \n",
      "P3hY1eagq88                       Reagan Warned Us About Obama   \n",
      "...                                                        ...   \n",
      "6Ib-K5nf_Ag        Chair Pulling Pranks (Gone Wrong) - 2018 !!   \n",
      "-7SsM4Q69Yo  Firefighters Laugh At Inappropriate Moments (E...   \n",
      "rXj6MMurcOk  Joshua Kutuny: Aaron Cheruiyot is not aware of...   \n",
      "lDbW2PpuOPM  The Wandering Trader Update is BAD... so we ch...   \n",
      "GvF2fIKik-M  Hurricane Dorian Scenarios: Breaking Down Stor...   \n",
      "\n",
      "                   channel_title  view_count  \\\n",
      "60Bp0qJvvqA      Apocryphile1970   1051238.0   \n",
      "KP6SZFQUDTs           SOCO Films   1145750.0   \n",
      "SOpvCubaIx0         Epic Moments   1086910.0   \n",
      "Cb1EDmVtg5M      Y.G. NYGHTSTORM    873200.0   \n",
      "P3hY1eagq88          Calvin King  19999350.0   \n",
      "...                          ...         ...   \n",
      "6Ib-K5nf_Ag                Jixcx    120493.0   \n",
      "-7SsM4Q69Yo    Updoot Everything    129570.0   \n",
      "rXj6MMurcOk      Kenya CitizenTV     47585.0   \n",
      "lDbW2PpuOPM            Logdotzip    725547.0   \n",
      "GvF2fIKik-M  NBC 6 South Florida     28459.0   \n",
      "\n",
      "                                                          tags  \\\n",
      "60Bp0qJvvqA  [Book of Enoch, Second Book of Enoch, Secrets ...   \n",
      "KP6SZFQUDTs                                               None   \n",
      "SOpvCubaIx0  [Obama Comebacks, Obama Rebuttals, Obama Cool ...   \n",
      "Cb1EDmVtg5M  [#MAGA #TRUMP2020 #WalkAwayCampaign #WalkAway ...   \n",
      "P3hY1eagq88  [Obama, Reagan, New, World, Order, Illuminati,...   \n",
      "...                                                        ...   \n",
      "6Ib-K5nf_Ag  [Chair Pulling Pranks, Gone Wrong, 2018, Prank...   \n",
      "-7SsM4Q69Yo  [#updootst, updoot, reddit, r/askreddit, askre...   \n",
      "rXj6MMurcOk  [Arron Cheruiyot, Mau evictions, Joshua Kutuny...   \n",
      "lDbW2PpuOPM  [minecraft, minecraft 1.14, wandering villager...   \n",
      "GvF2fIKik-M  [nbc 6, nbc, wtvj, south florida, south florid...   \n",
      "\n",
      "                                                   description  label  \n",
      "60Bp0qJvvqA  There are many ways you can help me to bring t...     -1  \n",
      "KP6SZFQUDTs  Christian ~ Muslim debate | Speakers Corner | ...     -1  \n",
      "SOpvCubaIx0  Part 2 of President Obama's best comeback and ...     -1  \n",
      "Cb1EDmVtg5M  “The BEST thing to ever happen to me financial...     -1  \n",
      "P3hY1eagq88  How Reagan summed up Obama in the first 5 minu...     -1  \n",
      "...                                                        ...    ...  \n",
      "6Ib-K5nf_Ag  Chair Pulling Pranks (Gone Wrong) - 2018 !!\\nV...     -1  \n",
      "-7SsM4Q69Yo  Fresh AskReddit Stories: Police Officers/Firef...     -1  \n",
      "rXj6MMurcOk  “Jeff one thing that first of all I want to re...     -1  \n",
      "lDbW2PpuOPM  We made an Update to Minecraft 1.14 that adds ...     -1  \n",
      "GvF2fIKik-M  Meteorologist Angie Lassman breaks down variou...     -1  \n",
      "\n",
      "[1110 rows x 6 columns]\n"
     ]
    }
   ],
   "source": [
    "df=pd.read_json('yt_training_set.json')\n",
    "# df = pd.DataFrame(df).T\n",
    "df = pd.DataFrame(df)\n",
    "print(df)"
   ]
  },
  {
   "cell_type": "code",
   "execution_count": 3,
   "metadata": {},
   "outputs": [
    {
     "name": "stdout",
     "output_type": "stream",
     "text": [
      "Index(['title', 'channel_title', 'view_count', 'tags', 'description', 'label'], dtype='object')\n"
     ]
    }
   ],
   "source": [
    "headers = df.keys()\n",
    "print(headers)"
   ]
  },
  {
   "cell_type": "code",
   "execution_count": 4,
   "metadata": {},
   "outputs": [
    {
     "name": "stdout",
     "output_type": "stream",
     "text": [
      "                                                 title  \\\n",
      "0    The Second Book of Enoch (Human Voice, Read-Al...   \n",
      "1    Obama's Best Comebacks and Rebuttal Moments - ...   \n",
      "2    BLACK MAN in a MAGA Hat & American Exceptional...   \n",
      "3                         Reagan Warned Us About Obama   \n",
      "4    TRUMP'S SECRET PLAN: HOW THE GOVT SHUTDOWN IS ...   \n",
      "..                                                 ...   \n",
      "993        Chair Pulling Pranks (Gone Wrong) - 2018 !!   \n",
      "994  Firefighters Laugh At Inappropriate Moments (E...   \n",
      "995  Joshua Kutuny: Aaron Cheruiyot is not aware of...   \n",
      "996  The Wandering Trader Update is BAD... so we ch...   \n",
      "997  Hurricane Dorian Scenarios: Breaking Down Stor...   \n",
      "\n",
      "               channel_title  view_count  \\\n",
      "0            Apocryphile1970   1051238.0   \n",
      "1               Epic Moments   1086910.0   \n",
      "2            Y.G. NYGHTSTORM    873200.0   \n",
      "3                Calvin King  19999350.0   \n",
      "4    The Josh Bernstein Show    825281.0   \n",
      "..                       ...         ...   \n",
      "993                    Jixcx    120493.0   \n",
      "994        Updoot Everything    129570.0   \n",
      "995          Kenya CitizenTV     47585.0   \n",
      "996                Logdotzip    725547.0   \n",
      "997      NBC 6 South Florida     28459.0   \n",
      "\n",
      "                                                  tags  \\\n",
      "0    [Book of Enoch, Second Book of Enoch, Secrets ...   \n",
      "1    [Obama Comebacks, Obama Rebuttals, Obama Cool ...   \n",
      "2    [#MAGA #TRUMP2020 #WalkAwayCampaign #WalkAway ...   \n",
      "3    [Obama, Reagan, New, World, Order, Illuminati,...   \n",
      "4    [Govt Shutdown, Government Shutdown, Drain The...   \n",
      "..                                                 ...   \n",
      "993  [Chair Pulling Pranks, Gone Wrong, 2018, Prank...   \n",
      "994  [#updootst, updoot, reddit, r/askreddit, askre...   \n",
      "995  [Arron Cheruiyot, Mau evictions, Joshua Kutuny...   \n",
      "996  [minecraft, minecraft 1.14, wandering villager...   \n",
      "997  [nbc 6, nbc, wtvj, south florida, south florid...   \n",
      "\n",
      "                                           description  label  \n",
      "0    There are many ways you can help me to bring t...     -1  \n",
      "1    Part 2 of President Obama's best comeback and ...     -1  \n",
      "2    “The BEST thing to ever happen to me financial...     -1  \n",
      "3    How Reagan summed up Obama in the first 5 minu...     -1  \n",
      "4    The longer the #GovernmentShutdown continues t...     -1  \n",
      "..                                                 ...    ...  \n",
      "993  Chair Pulling Pranks (Gone Wrong) - 2018 !!\\nV...     -1  \n",
      "994  Fresh AskReddit Stories: Police Officers/Firef...     -1  \n",
      "995  “Jeff one thing that first of all I want to re...     -1  \n",
      "996  We made an Update to Minecraft 1.14 that adds ...     -1  \n",
      "997  Meteorologist Angie Lassman breaks down variou...     -1  \n",
      "\n",
      "[998 rows x 6 columns]\n"
     ]
    }
   ],
   "source": [
    "# title_val = df[\"title\"].values\n",
    "# print(title_val)\n",
    "\n",
    "\n",
    "# Specify the columns (categories) from which you want to drop rows with missing values\n",
    "columns_to_dropna = [\"title\", \"channel_title\", \"view_count\", \"tags\", \"description\", \"label\"]\n",
    "\n",
    "# Use the dropna method with how='any' to drop rows with missing values from the specified columns\n",
    "filtered_data = df.dropna(subset=columns_to_dropna, how='any')\n",
    "\n",
    "# print(filtered_data)\n",
    "new_df=pd.DataFrame(filtered_data)\n",
    "\n",
    "\n",
    "\n",
    "new_dataframe= pd.DataFrame({'title': new_df[\"title\"].values,\"channel_title\": new_df[\"channel_title\"].values,\"view_count\":new_df[\"view_count\"].values,\"tags\":new_df[\"tags\"].values,\"description\":new_df[\"description\"].values,'label': new_df[\"label\"].values})\n",
    "print(new_dataframe)"
   ]
  },
  {
   "cell_type": "code",
   "execution_count": 5,
   "metadata": {},
   "outputs": [],
   "source": [
    "# TF-IDF (can try )\n",
    "tfidf_vectorizer = TfidfVectorizer(max_features=1000, stop_words='english')\n",
    "#  TF-IDF features from the 'title' and 'description' fields\n",
    "title_tfidf = tfidf_vectorizer.fit_transform(new_dataframe['title'])\n",
    "channel_title_tfidf = tfidf_vectorizer.fit_transform(new_dataframe['channel_title'])\n",
    "description_tfidf = tfidf_vectorizer.fit_transform(new_dataframe['description'])\n",
    "\n",
    "# Numerical features \n",
    "# numerical_features = new_dataframe['view_count'].values.reshape(-1, 1)\n",
    "\n",
    "# Concatenate all features\n",
    "X = np.hstack((title_tfidf.toarray(),channel_title_tfidf.toarray(), description_tfidf.toarray()))\n",
    "\n",
    "# The 'label' column contains the target labels\n",
    "y = new_dataframe['label']"
   ]
  },
  {
   "cell_type": "code",
   "execution_count": 6,
   "metadata": {},
   "outputs": [],
   "source": [
    "X_train, X_test, y_train, y_test = train_test_split(X, y, test_size=0.2, random_state=25)\n",
    "\n"
   ]
  },
  {
   "cell_type": "code",
   "execution_count": 7,
   "metadata": {},
   "outputs": [],
   "source": [
    "# Check for NaN values in X_train and y_train\n",
    "\n",
    "has_nan = np.isnan(X_test).any() \n",
    "\n",
    "if has_nan:\n",
    "    print(\"NaN in xtrain exists .\")"
   ]
  },
  {
   "cell_type": "code",
   "execution_count": 8,
   "metadata": {},
   "outputs": [
    {
     "name": "stdout",
     "output_type": "stream",
     "text": [
      "[[0.         0.         0.         ... 0.         0.         0.        ]\n",
      " [0.         0.         0.         ... 0.         0.         0.        ]\n",
      " [0.         0.         0.         ... 0.         0.         0.        ]\n",
      " ...\n",
      " [0.         0.         0.         ... 0.         0.06240833 0.03508806]\n",
      " [0.         0.         0.         ... 0.         0.         0.        ]\n",
      " [0.         0.         0.         ... 0.28351871 0.         0.11946761]]\n"
     ]
    }
   ],
   "source": [
    "print(X_train)"
   ]
  },
  {
   "cell_type": "code",
   "execution_count": 39,
   "metadata": {},
   "outputs": [
    {
     "data": {
      "text/plain": [
       "RandomForestClassifier(min_samples_split=5, n_estimators=300, random_state=38)"
      ]
     },
     "execution_count": 39,
     "metadata": {},
     "output_type": "execute_result"
    }
   ],
   "source": [
    "# consp_classifier = LogisticRegression()\n",
    "# consp_classifier = RandomForestClassifier(random_state=38)\n",
    "consp_classifier = RandomForestClassifier(random_state=38,max_depth= None, min_samples_leaf= 1, min_samples_split= 5, n_estimators= 300)\n",
    "consp_classifier.fit(X_train, y_train)"
   ]
  },
  {
   "cell_type": "code",
   "execution_count": 40,
   "metadata": {},
   "outputs": [
    {
     "name": "stdout",
     "output_type": "stream",
     "text": [
      "Accuracy: 0.715\n",
      "Precision: 0.8\n",
      "Recall: 0.5882352941176471\n",
      "F1 Score: 0.6779661016949153\n",
      "ROC-AUC: 0.7730092036814726\n"
     ]
    },
    {
     "data": {
      "image/png": "[encoded data removed]",
      "text/plain": [
       "<Figure size 432x288 with 1 Axes>"
      ]
     },
     "metadata": {
      "needs_background": "light"
     },
     "output_type": "display_data"
    }
   ],
   "source": [
    "from sklearn.metrics import accuracy_score, precision_score, recall_score, f1_score, roc_auc_score, roc_curve, auc\n",
    "import matplotlib.pyplot as plt\n",
    "\n",
    "\n",
    "\n",
    "y_pred = consp_classifier.predict(X_test)\n",
    "# performance metrics: \n",
    "# Accuracy\n",
    "accuracy = accuracy_score(y_test, y_pred)\n",
    "print(f\"Accuracy: {accuracy}\")\n",
    "\n",
    "# Precision\n",
    "precision = precision_score(y_test, y_pred)\n",
    "print(f\"Precision: {precision}\")\n",
    "\n",
    "# Recall\n",
    "recall = recall_score(y_test, y_pred)\n",
    "print(f\"Recall: {recall}\")\n",
    "\n",
    "# F1 score\n",
    "f1 = f1_score(y_test, y_pred)\n",
    "print(f\"F1 Score: {f1}\")\n",
    "\n",
    "# ROC-AUC score\n",
    "roc_auc = roc_auc_score(y_test, consp_classifier.predict_proba(X_test)[:, 1])\n",
    "print(f\"ROC-AUC: {roc_auc}\")\n",
    "\n",
    "# Plot ROC curve\n",
    "fp, tp, thresholds = roc_curve(y_test, consp_classifier.predict_proba(X_test)[:, 1])\n",
    "roc_auc = auc(fp, tp)\n",
    "\n",
    "plt.figure()\n",
    "plt.plot(\n",
    "        fp, \n",
    "        tp, \n",
    "        color='darkorange',\n",
    "        lw=2, \n",
    "        label='ROC curve (area = %0.2f)' % roc_auc)\n",
    "plt.plot([0, 1], [0, 1], color='navy', lw=2, linestyle='--')\n",
    "plt.xlim([0.0, 1.0])\n",
    "plt.ylim([0.0, 1.05])\n",
    "plt.xlabel('False Positive Rate')\n",
    "plt.ylabel('True Positive Rate')\n",
    "plt.title('Receiver Operating Characteristic')\n",
    "plt.legend(loc=\"lower right\")\n",
    "plt.show()\n"
   ]
  },
  {
   "cell_type": "code",
   "execution_count": null,
   "metadata": {},
   "outputs": [],
   "source": [
    "\n",
    "\n"
   ]
  },
  {
   "cell_type": "code",
   "execution_count": 41,
   "metadata": {},
   "outputs": [
    {
     "data": {
      "text/plain": [
       "['consp_classifier.joblib']"
      ]
     },
     "execution_count": 41,
     "metadata": {},
     "output_type": "execute_result"
    }
   ],
   "source": [
    "import joblib\n",
    "\n",
    "# Save the TF-IDF vectorizer model\n",
    "joblib.dump(tfidf_vectorizer, 'tfidf_vectorizer.joblib')\n",
    "\n",
    "# Save the model\n",
    "joblib.dump(consp_classifier, 'consp_classifier.joblib')\n",
    "\n"
   ]
  },
  {
   "cell_type": "code",
   "execution_count": 34,
   "metadata": {},
   "outputs": [
    {
     "name": "stdout",
     "output_type": "stream",
     "text": [
      "Best Hyperparameters: {'max_depth': None, 'min_samples_leaf': 1, 'min_samples_split': 5, 'n_estimators': 300}\n",
      "Accuracy: 0.72\n",
      "Precision: 0.8194444444444444\n",
      "Recall: 0.5784313725490197\n",
      "F1 Score: 0.67816091954023\n",
      "ROC-AUC: 0.7811124449779911\n"
     ]
    }
   ],
   "source": [
    "from sklearn.model_selection import GridSearchCV\n",
    "\n",
    "# Define a parameter grid to search over\n",
    "param_grid = {\n",
    "    'n_estimators': [100, 200, 300],  # Number of trees in the forest\n",
    "    'max_depth': [None, 10, 20, 30],  # Maximum depth of the tree\n",
    "    'min_samples_split': [2, 5, 10],  # Minimum samples required to split an internal node\n",
    "    'min_samples_leaf': [1, 2, 4]  # Minimum samples required in a leaf node\n",
    "}\n",
    "\n",
    "# Create a grid search\n",
    "grid_search = GridSearchCV(\n",
    "    RandomForestClassifier(random_state=42),\n",
    "    param_grid,\n",
    "    cv=5,  # 5-fold cross-validation\n",
    "    scoring='accuracy',  # You can change the scoring metric as needed\n",
    "    n_jobs=-1,  # Use all available CPU cores for faster searching\n",
    ")\n",
    "\n",
    "# Fit the grid search to your data\n",
    "grid_search.fit(X_train, y_train)\n",
    "\n",
    "# Get the best hyperparameters found during the search\n",
    "best_params = grid_search.best_params_\n",
    "\n",
    "# Train a RandomForestClassifier with the best hyperparameters\n",
    "best_consp_classifier = RandomForestClassifier(random_state=42, **best_params)\n",
    "best_consp_classifier.fit(X_train, y_train)\n",
    "\n",
    "# Predict on the test set using the best classifier\n",
    "y_pred = best_consp_classifier.predict(X_test)\n",
    "\n",
    "# Calculate performance metrics\n",
    "accuracy = accuracy_score(y_test, y_pred)\n",
    "precision = precision_score(y_test, y_pred)\n",
    "recall = recall_score(y_test, y_pred)\n",
    "f1 = f1_score(y_test, y_pred)\n",
    "roc_auc = roc_auc_score(y_test, best_consp_classifier.predict_proba(X_test)[:, 1])\n",
    "\n",
    "print(\"Best Hyperparameters:\", best_params)\n",
    "print(f\"Accuracy: {accuracy}\")\n",
    "print(f\"Precision: {precision}\")\n",
    "print(f\"Recall: {recall}\")\n",
    "print(f\"F1 Score: {f1}\")\n",
    "print(f\"ROC-AUC: {roc_auc}\")\n",
    "\n",
    "\n"
   ]
  }
 ],
 "metadata": {
  "kernelspec": {
   "display_name": "base",
   "language": "python",
   "name": "python3"
  },
  "language_info": {
   "codemirror_mode": {
    "name": "ipython",
    "version": 3
   },
   "file_extension": ".py",
   "mimetype": "text/x-python",
   "name": "python",
   "nbconvert_exporter": "python",
   "pygments_lexer": "ipython3",
   "version": "3.8.8"
  }
 },
 "nbformat": 4,
 "nbformat_minor": 2
}
