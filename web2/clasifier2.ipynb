{
 "cells": [
  {
   "cell_type": "code",
   "execution_count": 1,
   "metadata": {},
   "outputs": [],
   "source": [
    "#website UI and conspiracy theory classifier\n",
    "\n",
    "\n",
    "# TF-IDF (can try )\n",
    "#add / separate data (url useless , separate words)\n",
    "# try break urls e.g. https:\\/\\/www.zerohedge.com muight be conspiracy theory\n",
    "# tokenizer for sklearn before tfidf\n",
    "# concat the features into 1 set, instead of many features.\n",
    "# split into multiple trainign samples. 1 long para , split into eg 20 samples for training.\n",
    "\n",
    "# apply classifier to all sentences in the whole doc, is it 50%> is conspiracy (consistency) even if the article is conspiracy? find accuracy.\n",
    "\n",
    "#highlight where things ai thinks that are consp, \n",
    "\n",
    "#may experiment with chatgpt test if gives useful answers\n",
    "\n",
    "#if does, api ..to json to user interface\n",
    "\n",
    "#maybe heatmap visualisation\n",
    "\n",
    "import matplotlib.pyplot as plt\n",
    "import numpy as np\n",
    "import pandas as pd\n",
    "from sklearn.preprocessing import LabelEncoder\n",
    "from sklearn.pipeline import Pipeline\n",
    "from sklearn.feature_extraction.text import TfidfVectorizer\n",
    "\n",
    "from sklearn.model_selection import train_test_split\n",
    "from sklearn.naive_bayes import MultinomialNB\n",
    "# from sklearn.neighbors import KNeighborsClassifier\n",
    "from sklearn.linear_model import LogisticRegression\n",
    "from sklearn.ensemble import RandomForestClassifier"
   ]
  },
  {
   "cell_type": "code",
   "execution_count": 2,
   "metadata": {},
   "outputs": [
    {
     "name": "stdout",
     "output_type": "stream",
     "text": [
      "                                                         title  \\\n",
      "60Bp0qJvvqA  The Second Book of Enoch (Human Voice, Read-Al...   \n",
      "KP6SZFQUDTs  Pastor David Lynn Schools a Muslim On Isaiah 4...   \n",
      "SOpvCubaIx0  Obama's Best Comebacks and Rebuttal Moments - ...   \n",
      "Cb1EDmVtg5M  BLACK MAN in a MAGA Hat & American Exceptional...   \n",
      "P3hY1eagq88                       Reagan Warned Us About Obama   \n",
      "...                                                        ...   \n",
      "6Ib-K5nf_Ag        Chair Pulling Pranks (Gone Wrong) - 2018 !!   \n",
      "-7SsM4Q69Yo  Firefighters Laugh At Inappropriate Moments (E...   \n",
      "rXj6MMurcOk  Joshua Kutuny: Aaron Cheruiyot is not aware of...   \n",
      "lDbW2PpuOPM  The Wandering Trader Update is BAD... so we ch...   \n",
      "GvF2fIKik-M  Hurricane Dorian Scenarios: Breaking Down Stor...   \n",
      "\n",
      "                   channel_title  view_count  \\\n",
      "60Bp0qJvvqA      Apocryphile1970   1051238.0   \n",
      "KP6SZFQUDTs           SOCO Films   1145750.0   \n",
      "SOpvCubaIx0         Epic Moments   1086910.0   \n",
      "Cb1EDmVtg5M      Y.G. NYGHTSTORM    873200.0   \n",
      "P3hY1eagq88          Calvin King  19999350.0   \n",
      "...                          ...         ...   \n",
      "6Ib-K5nf_Ag                Jixcx    120493.0   \n",
      "-7SsM4Q69Yo    Updoot Everything    129570.0   \n",
      "rXj6MMurcOk      Kenya CitizenTV     47585.0   \n",
      "lDbW2PpuOPM            Logdotzip    725547.0   \n",
      "GvF2fIKik-M  NBC 6 South Florida     28459.0   \n",
      "\n",
      "                                                          tags  \\\n",
      "60Bp0qJvvqA  [Book of Enoch, Second Book of Enoch, Secrets ...   \n",
      "KP6SZFQUDTs                                               None   \n",
      "SOpvCubaIx0  [Obama Comebacks, Obama Rebuttals, Obama Cool ...   \n",
      "Cb1EDmVtg5M  [#MAGA #TRUMP2020 #WalkAwayCampaign #WalkAway ...   \n",
      "P3hY1eagq88  [Obama, Reagan, New, World, Order, Illuminati,...   \n",
      "...                                                        ...   \n",
      "6Ib-K5nf_Ag  [Chair Pulling Pranks, Gone Wrong, 2018, Prank...   \n",
      "-7SsM4Q69Yo  [#updootst, updoot, reddit, r/askreddit, askre...   \n",
      "rXj6MMurcOk  [Arron Cheruiyot, Mau evictions, Joshua Kutuny...   \n",
      "lDbW2PpuOPM  [minecraft, minecraft 1.14, wandering villager...   \n",
      "GvF2fIKik-M  [nbc 6, nbc, wtvj, south florida, south florid...   \n",
      "\n",
      "                                                   description  label  \n",
      "60Bp0qJvvqA  There are many ways you can help me to bring t...     -1  \n",
      "KP6SZFQUDTs  Christian ~ Muslim debate | Speakers Corner | ...     -1  \n",
      "SOpvCubaIx0  Part 2 of President Obama's best comeback and ...     -1  \n",
      "Cb1EDmVtg5M  “The BEST thing to ever happen to me financial...     -1  \n",
      "P3hY1eagq88  How Reagan summed up Obama in the first 5 minu...     -1  \n",
      "...                                                        ...    ...  \n",
      "6Ib-K5nf_Ag  Chair Pulling Pranks (Gone Wrong) - 2018 !!\\nV...     -1  \n",
      "-7SsM4Q69Yo  Fresh AskReddit Stories: Police Officers/Firef...     -1  \n",
      "rXj6MMurcOk  “Jeff one thing that first of all I want to re...     -1  \n",
      "lDbW2PpuOPM  We made an Update to Minecraft 1.14 that adds ...     -1  \n",
      "GvF2fIKik-M  Meteorologist Angie Lassman breaks down variou...     -1  \n",
      "\n",
      "[1110 rows x 6 columns]\n"
     ]
    }
   ],
   "source": [
    "df=pd.read_json('yt_training_set.json')\n",
    "\n",
    "df = pd.DataFrame(df)\n",
    "print(df)"
   ]
  },
  {
   "cell_type": "code",
   "execution_count": 3,
   "metadata": {},
   "outputs": [
    {
     "name": "stdout",
     "output_type": "stream",
     "text": [
      "Index(['title', 'channel_title', 'view_count', 'tags', 'description', 'label'], dtype='object')\n"
     ]
    }
   ],
   "source": [
    "headers = df.keys()\n",
    "print(headers)"
   ]
  },
  {
   "cell_type": "code",
   "execution_count": 4,
   "metadata": {},
   "outputs": [
    {
     "name": "stdout",
     "output_type": "stream",
     "text": [
      "                                                 title  \\\n",
      "0    The Second Book of Enoch (Human Voice, Read-Al...   \n",
      "1    Obama's Best Comebacks and Rebuttal Moments - ...   \n",
      "2    BLACK MAN in a MAGA Hat & American Exceptional...   \n",
      "3                         Reagan Warned Us About Obama   \n",
      "4    TRUMP'S SECRET PLAN: HOW THE GOVT SHUTDOWN IS ...   \n",
      "..                                                 ...   \n",
      "993        Chair Pulling Pranks (Gone Wrong) - 2018 !!   \n",
      "994  Firefighters Laugh At Inappropriate Moments (E...   \n",
      "995  Joshua Kutuny: Aaron Cheruiyot is not aware of...   \n",
      "996  The Wandering Trader Update is BAD... so we ch...   \n",
      "997  Hurricane Dorian Scenarios: Breaking Down Stor...   \n",
      "\n",
      "               channel_title  view_count  \\\n",
      "0            Apocryphile1970   1051238.0   \n",
      "1               Epic Moments   1086910.0   \n",
      "2            Y.G. NYGHTSTORM    873200.0   \n",
      "3                Calvin King  19999350.0   \n",
      "4    The Josh Bernstein Show    825281.0   \n",
      "..                       ...         ...   \n",
      "993                    Jixcx    120493.0   \n",
      "994        Updoot Everything    129570.0   \n",
      "995          Kenya CitizenTV     47585.0   \n",
      "996                Logdotzip    725547.0   \n",
      "997      NBC 6 South Florida     28459.0   \n",
      "\n",
      "                                                  tags  \\\n",
      "0    [Book of Enoch, Second Book of Enoch, Secrets ...   \n",
      "1    [Obama Comebacks, Obama Rebuttals, Obama Cool ...   \n",
      "2    [#MAGA #TRUMP2020 #WalkAwayCampaign #WalkAway ...   \n",
      "3    [Obama, Reagan, New, World, Order, Illuminati,...   \n",
      "4    [Govt Shutdown, Government Shutdown, Drain The...   \n",
      "..                                                 ...   \n",
      "993  [Chair Pulling Pranks, Gone Wrong, 2018, Prank...   \n",
      "994  [#updootst, updoot, reddit, r/askreddit, askre...   \n",
      "995  [Arron Cheruiyot, Mau evictions, Joshua Kutuny...   \n",
      "996  [minecraft, minecraft 1.14, wandering villager...   \n",
      "997  [nbc 6, nbc, wtvj, south florida, south florid...   \n",
      "\n",
      "                                           description  label  \n",
      "0    There are many ways you can help me to bring t...     -1  \n",
      "1    Part 2 of President Obama's best comeback and ...     -1  \n",
      "2    “The BEST thing to ever happen to me financial...     -1  \n",
      "3    How Reagan summed up Obama in the first 5 minu...     -1  \n",
      "4    The longer the #GovernmentShutdown continues t...     -1  \n",
      "..                                                 ...    ...  \n",
      "993  Chair Pulling Pranks (Gone Wrong) - 2018 !!\\nV...     -1  \n",
      "994  Fresh AskReddit Stories: Police Officers/Firef...     -1  \n",
      "995  “Jeff one thing that first of all I want to re...     -1  \n",
      "996  We made an Update to Minecraft 1.14 that adds ...     -1  \n",
      "997  Meteorologist Angie Lassman breaks down variou...     -1  \n",
      "\n",
      "[998 rows x 6 columns]\n"
     ]
    }
   ],
   "source": [
    "# Specify the columns (categories) from which you want to drop rows with missing values\n",
    "columns_to_dropna = [\"title\", \"channel_title\", \"view_count\", \"tags\", \"description\", \"label\"]\n",
    "\n",
    "# Use the dropna method with how='any' to drop rows with missing values from the specified columns\n",
    "filtered_data = df.dropna(subset=columns_to_dropna, how='any')\n",
    "\n",
    "# print(filtered_data)\n",
    "new_df=pd.DataFrame(filtered_data)\n",
    "\n",
    "\n",
    "\n",
    "new_dataframe= pd.DataFrame({'title': new_df[\"title\"].values,\"channel_title\": new_df[\"channel_title\"].values,\"view_count\":new_df[\"view_count\"].values,\"tags\":new_df[\"tags\"].values,\"description\":new_df[\"description\"].values,'label': new_df[\"label\"].values})\n",
    "print(new_dataframe)\n",
    "new_df=new_dataframe"
   ]
  },
  {
   "cell_type": "code",
   "execution_count": 5,
   "metadata": {},
   "outputs": [
    {
     "data": {
      "text/html": [
       "<div>\n",
       "<style scoped>\n",
       "    .dataframe tbody tr th:only-of-type {\n",
       "        vertical-align: middle;\n",
       "    }\n",
       "\n",
       "    .dataframe tbody tr th {\n",
       "        vertical-align: top;\n",
       "    }\n",
       "\n",
       "    .dataframe thead th {\n",
       "        text-align: right;\n",
       "    }\n",
       "</style>\n",
       "<table border=\"1\" class=\"dataframe\">\n",
       "  <thead>\n",
       "    <tr style=\"text-align: right;\">\n",
       "      <th></th>\n",
       "      <th>text</th>\n",
       "      <th>label</th>\n",
       "    </tr>\n",
       "  </thead>\n",
       "  <tbody>\n",
       "    <tr>\n",
       "      <th>0</th>\n",
       "      <td>The Second Book of Enoch (Human Voice, Read-Al...</td>\n",
       "      <td>-1</td>\n",
       "    </tr>\n",
       "    <tr>\n",
       "      <th>1</th>\n",
       "      <td>Obama's Best Comebacks and Rebuttal Moments - ...</td>\n",
       "      <td>-1</td>\n",
       "    </tr>\n",
       "    <tr>\n",
       "      <th>2</th>\n",
       "      <td>BLACK MAN in a MAGA Hat &amp; American Exceptional...</td>\n",
       "      <td>-1</td>\n",
       "    </tr>\n",
       "    <tr>\n",
       "      <th>3</th>\n",
       "      <td>Reagan Warned Us About Obama Calvin King Obama...</td>\n",
       "      <td>-1</td>\n",
       "    </tr>\n",
       "    <tr>\n",
       "      <th>4</th>\n",
       "      <td>TRUMP'S SECRET PLAN: HOW THE GOVT SHUTDOWN IS ...</td>\n",
       "      <td>-1</td>\n",
       "    </tr>\n",
       "    <tr>\n",
       "      <th>...</th>\n",
       "      <td>...</td>\n",
       "      <td>...</td>\n",
       "    </tr>\n",
       "    <tr>\n",
       "      <th>993</th>\n",
       "      <td>Chair Pulling Pranks (Gone Wrong) - 2018 !! Ji...</td>\n",
       "      <td>-1</td>\n",
       "    </tr>\n",
       "    <tr>\n",
       "      <th>994</th>\n",
       "      <td>Firefighters Laugh At Inappropriate Moments (E...</td>\n",
       "      <td>-1</td>\n",
       "    </tr>\n",
       "    <tr>\n",
       "      <th>995</th>\n",
       "      <td>Joshua Kutuny: Aaron Cheruiyot is not aware of...</td>\n",
       "      <td>-1</td>\n",
       "    </tr>\n",
       "    <tr>\n",
       "      <th>996</th>\n",
       "      <td>The Wandering Trader Update is BAD... so we ch...</td>\n",
       "      <td>-1</td>\n",
       "    </tr>\n",
       "    <tr>\n",
       "      <th>997</th>\n",
       "      <td>Hurricane Dorian Scenarios: Breaking Down Stor...</td>\n",
       "      <td>-1</td>\n",
       "    </tr>\n",
       "  </tbody>\n",
       "</table>\n",
       "<p>998 rows × 2 columns</p>\n",
       "</div>"
      ],
      "text/plain": [
       "                                                  text label\n",
       "0    The Second Book of Enoch (Human Voice, Read-Al...    -1\n",
       "1    Obama's Best Comebacks and Rebuttal Moments - ...    -1\n",
       "2    BLACK MAN in a MAGA Hat & American Exceptional...    -1\n",
       "3    Reagan Warned Us About Obama Calvin King Obama...    -1\n",
       "4    TRUMP'S SECRET PLAN: HOW THE GOVT SHUTDOWN IS ...    -1\n",
       "..                                                 ...   ...\n",
       "993  Chair Pulling Pranks (Gone Wrong) - 2018 !! Ji...    -1\n",
       "994  Firefighters Laugh At Inappropriate Moments (E...    -1\n",
       "995  Joshua Kutuny: Aaron Cheruiyot is not aware of...    -1\n",
       "996  The Wandering Trader Update is BAD... so we ch...    -1\n",
       "997  Hurricane Dorian Scenarios: Breaking Down Stor...    -1\n",
       "\n",
       "[998 rows x 2 columns]"
      ]
     },
     "execution_count": 5,
     "metadata": {},
     "output_type": "execute_result"
    }
   ],
   "source": [
    "\n",
    "\n",
    "\n",
    "# Convert the data to a pandas DataFrame\n",
    "df_concat = pd.DataFrame(columns=[\"text\", \"label\"])\n",
    "\n",
    "\n",
    "for entry in new_df.index:\n",
    "    # print(df[\"title\"].get(entry))\n",
    "    title=new_df[\"title\"].get(entry)\n",
    "    channel_title=new_df[\"channel_title\"].get(entry)\n",
    "    tags=\" \".join(new_df[\"tags\"].get(entry ,[]))\n",
    "    description=new_df[\"description\"].get(entry)\n",
    "    label=new_df[\"label\"].get(entry)\n",
    "\n",
    "    concat_text = f\"{title} {channel_title} {tags} {description}\"\n",
    "    df_concat = df_concat.append({\"text\": concat_text, \"label\": label}, ignore_index=True)\n",
    "# df_concatenated.to_excel('output_file.xlsx', index=False)\n",
    "df_concat"
   ]
  },
  {
   "cell_type": "code",
   "execution_count": 6,
   "metadata": {},
   "outputs": [
    {
     "name": "stdout",
     "output_type": "stream",
     "text": [
      "0      The Second Book of Enoch (Human Voice, Read-Al...\n",
      "1      Obama's Best Comebacks and Rebuttal Moments - ...\n",
      "2      BLACK MAN in a MAGA Hat & American Exceptional...\n",
      "3      Reagan Warned Us About Obama Calvin King Obama...\n",
      "4      TRUMP'S SECRET PLAN: HOW THE GOVT SHUTDOWN IS ...\n",
      "                             ...                        \n",
      "993    Chair Pulling Pranks (Gone Wrong) - 2018 !! Ji...\n",
      "994    Firefighters Laugh At Inappropriate Moments (E...\n",
      "995    Joshua Kutuny: Aaron Cheruiyot is not aware of...\n",
      "996    The Wandering Trader Update is BAD... so we ch...\n",
      "997    Hurricane Dorian Scenarios: Breaking Down Stor...\n",
      "Name: text, Length: 998, dtype: object\n",
      "0      -1\n",
      "1      -1\n",
      "2      -1\n",
      "3      -1\n",
      "4      -1\n",
      "       ..\n",
      "993    -1\n",
      "994    -1\n",
      "995    -1\n",
      "996    -1\n",
      "997    -1\n",
      "Name: label, Length: 998, dtype: object\n"
     ]
    }
   ],
   "source": [
    "\n",
    "X = df_concat[\"text\"]\n",
    "print (X)\n",
    "\n",
    "\n",
    "# The 'label' column contains the target labels\n",
    "y = df_concat['label']\n",
    "print(y)\n",
    "\n"
   ]
  },
  {
   "cell_type": "code",
   "execution_count": 7,
   "metadata": {},
   "outputs": [
    {
     "name": "stdout",
     "output_type": "stream",
     "text": [
      "[0 0 1 0 0 1 0 0 1 0 0 1 0 1 1 0 0 0 0 1 0 0 1 1 0 0 0 1 1 1 0 1 1 1 0 0 0\n",
      " 1 1 0 1 1 1 0 0 0 1 0 0 1 1 0 0 1 0 1 1 1 0 0 0 1 0 0 0 0 0 0 1 1 1 0 1 0\n",
      " 0 1 0 1 1 1 0 0 0 1 0 0 0 0 0 0 0 0 0 0 0 0 1 1 1 0 0 0 1 1 0 1 1 0 0 1 0\n",
      " 1 0 1 0 0 0 1 0 1 0 1 0 0 1 1 0 0 1 1 0 0 0 0 0 0 1 0 1 0 1 0 1 1 1 0 0 1\n",
      " 0 1 0 1 1 1 1 0 1 1 1 1 1 0 1 1 0 1 1 0 0 1 1 1 1 0 0 0 1 0 1 0 0 1 0 1 1\n",
      " 1 1 0 0 0 0 0 1 0 1 0 0 0 0 1 0 0 0 1 1 1 0 0 0 0 0 1 0 1 1 1 1 0 1 0 0 0\n",
      " 1 0 1 1 1 0 0 1 1 0 0 1 0 0 0 1 1 0 0 1 1 0 0 0 0 1 1 1 0 1 1 1 1 0 0 0 0\n",
      " 0 0 0 1 0 1 0 1 1 1 0 0 0 1 1 0 1 0 1 1 0 0 0 0 1 0 0 1 1 1 0 1 1 1 1 1 1\n",
      " 0 0 1 0 1 0 1 0 1 1 0 1 0 1 0 1 0 1 0 0 1 0 0 0 1 0 1 1 0 1 0 0 1 0 1 1 0\n",
      " 1 1 0 1 0 0 0 0 1 0 1 1 0 1 0 0 0 1 0 1 1 0 0 0 1 1 0 0 1 0 0 1 0 0 1 0 1\n",
      " 0 0 0 1 1 1 0 0 0 0 0 0 1 1 1 0 0 1 1 0 1 1 0 0 0 0 0 1 0 1 0 0 1 1 1 0 0\n",
      " 1 0 1 0 1 0 0 1 1 0 1 0 0 0 1 0 1 0 0 0 0 0 1 1 0 0 0 0 1 0 1 1 0 1 0 0 0\n",
      " 1 1 0 0 0 0 0 0 1 1 0 0 1 0 1 1 0 1 1 1 1 0 1 1 1 0 1 1 0 1 0 0 0 1 1 1 0\n",
      " 0 0 0 0 1 0 0 0 0 0 0 1 1 0 0 1 0 0 0 1 0 0 1 0 1 1 0 1 0 0 1 1 0 1 0 1 1\n",
      " 0 1 1 0 0 0 0 1 0 1 0 0 0 0 0 0 1 0 1 0 0 1 1 1 0 0 0 1 0 0 1 0 0 0 1 0 1\n",
      " 0 1 1 0 0 1 0 1 0 0 1 0 0 1 0 0 0 0 0 0 1 1 0 1 1 0 0 0 0 0 1 1 0 1 1 1 0\n",
      " 1 1 1 1 1 0 1 0 1 1 0 0 1 1 0 1 0 1 1 1 0 1 0 1 0 0 1 0 0 0 1 0 0 0 0 1 0\n",
      " 0 1 0 1 0 1 0 0 1 0 0 1 1 1 0 1 0 0 0 0 1 1 1 0 1 1 1 1 1 1 0 0 0 1 1 0 0\n",
      " 0 0 1 1 1 1 0 0 0 0 1 0 1 0 0 1 0 0 0 0 0 1 0 1 0 1 0 0 1 0 0 1 0 0 1 1 1\n",
      " 0 1 0 1 1 0 1 0 1 0 1 1 0 0 0 0 1 1 0 1 1 0 0 0 1 1 1 0 0 0 0 1 0 0 0 1 0\n",
      " 1 1 1 1 0 0 1 0 1 0 0 0 0 0 1 0 1 0 1 1 1 0 1 0 1 1 1 0 1 0 0 1 0 1 0 0 0\n",
      " 1 1 1 0 1 1 0 1 1 0 0 0 0 0 1 1 1 0 0 1 0]\n"
     ]
    }
   ],
   "source": [
    "X_train, X_test, y_train, y_test = train_test_split(X, y, test_size=0.2, random_state=25)\n",
    "tfidf_vectorizer = TfidfVectorizer(max_features=1000, stop_words='english')\n",
    "\n",
    "X_train_tfidf = tfidf_vectorizer.fit_transform(X_train)\n",
    "X_test_tfidf = tfidf_vectorizer.transform(X_test)\n",
    "label_encoder = LabelEncoder()\n",
    "\n",
    "y_train_encoded = label_encoder.fit_transform(y_train)\n",
    "y_test_encoded = label_encoder.fit_transform(y_test)\n",
    "print(y_train_encoded)\n"
   ]
  },
  {
   "cell_type": "code",
   "execution_count": 8,
   "metadata": {},
   "outputs": [],
   "source": [
    "# Check for NaN values in X_train and y_train\n",
    "\n",
    "NaN_exists = y_train.isnull().values.any()\n",
    " \n",
    "\n",
    "if NaN_exists:\n",
    "    print(\"NaN in xtrain exists .\")"
   ]
  },
  {
   "cell_type": "code",
   "execution_count": 9,
   "metadata": {},
   "outputs": [
    {
     "name": "stdout",
     "output_type": "stream",
     "text": [
      "  (0, 525)\t0.0584947832691136\n",
      "  (0, 653)\t0.03804248973057809\n",
      "  (0, 214)\t0.0584947832691136\n",
      "  (0, 436)\t0.019153226326666054\n",
      "  (0, 555)\t0.057885953031412946\n",
      "  (0, 504)\t0.05262982203799048\n",
      "  (0, 608)\t0.03792192314472674\n",
      "  (0, 530)\t0.02976187258192533\n",
      "  (0, 736)\t0.043596368544540146\n",
      "  (0, 690)\t0.12416927365890001\n",
      "  (0, 185)\t0.05621967559832691\n",
      "  (0, 857)\t0.06294556745065435\n",
      "  (0, 670)\t0.03475924974217408\n",
      "  (0, 26)\t0.04417687063259368\n",
      "  (0, 370)\t0.3069603670745129\n",
      "  (0, 696)\t0.17942858747599\n",
      "  (0, 851)\t0.08270562440848518\n",
      "  (0, 106)\t0.04029339071179424\n",
      "  (0, 740)\t0.8189269657675904\n",
      "  (0, 849)\t0.387004435445046\n",
      "  (1, 623)\t0.24988492599653106\n",
      "  (1, 991)\t0.09044782140099943\n",
      "  (1, 435)\t0.2075096694941592\n",
      "  (1, 824)\t0.22007578365971756\n",
      "  (1, 947)\t0.16386991026991385\n",
      "  :\t:\n",
      "  (796, 477)\t0.2452329486021057\n",
      "  (796, 838)\t0.1899789111641368\n",
      "  (796, 924)\t0.1658106792053323\n",
      "  (796, 163)\t0.21579448332625756\n",
      "  (797, 254)\t0.20543155902542148\n",
      "  (797, 109)\t0.17341920187010093\n",
      "  (797, 872)\t0.1872935902789647\n",
      "  (797, 830)\t0.37734024301392405\n",
      "  (797, 687)\t0.17758348419773182\n",
      "  (797, 997)\t0.20543155902542148\n",
      "  (797, 692)\t0.1765055107083569\n",
      "  (797, 738)\t0.18867012150696202\n",
      "  (797, 956)\t0.1583675419619001\n",
      "  (797, 625)\t0.10283685748518905\n",
      "  (797, 324)\t0.09427240315622147\n",
      "  (797, 946)\t0.09132185689597883\n",
      "  (797, 925)\t0.09359970273343116\n",
      "  (797, 577)\t0.530517418825273\n",
      "  (797, 999)\t0.09053565502284029\n",
      "  (797, 367)\t0.1280762346192714\n",
      "  (797, 626)\t0.10043983401202843\n",
      "  (797, 183)\t0.19577305609467802\n",
      "  (797, 991)\t0.27734251975243535\n",
      "  (797, 435)\t0.3181461627215559\n",
      "  (797, 670)\t0.12460676510767889\n"
     ]
    }
   ],
   "source": [
    "print(X_train_tfidf)"
   ]
  },
  {
   "cell_type": "code",
   "execution_count": 10,
   "metadata": {},
   "outputs": [
    {
     "data": {
      "text/plain": [
       "MultinomialNB()"
      ]
     },
     "execution_count": 10,
     "metadata": {},
     "output_type": "execute_result"
    }
   ],
   "source": [
    "# consp_classifier = LogisticRegression()\n",
    "consp_classifier = MultinomialNB()\n",
    "\n",
    "#classifier training\n",
    "consp_classifier.fit(X_train_tfidf, y_train_encoded)"
   ]
  },
  {
   "cell_type": "code",
   "execution_count": 12,
   "metadata": {},
   "outputs": [
    {
     "name": "stdout",
     "output_type": "stream",
     "text": [
      "Accuracy: 0.745\n",
      "Precision: 0.8148148148148148\n",
      "Recall: 0.6470588235294118\n",
      "F1 Score: 0.7213114754098361\n",
      "ROC-AUC: 0.8389355742296919\n"
     ]
    },
    {
     "data": {
      "image/png": "[encoded data removed]",
      "text/plain": [
       "<Figure size 432x288 with 1 Axes>"
      ]
     },
     "metadata": {
      "needs_background": "light"
     },
     "output_type": "display_data"
    }
   ],
   "source": [
    "from sklearn.metrics import accuracy_score, precision_score, recall_score, f1_score, roc_auc_score, roc_curve, auc\n",
    "import matplotlib.pyplot as plt\n",
    "\n",
    "\n",
    "\n",
    "y_pred = consp_classifier.predict(X_test_tfidf)\n",
    "\n",
    "# performance metrics: \n",
    "# Accuracy\n",
    "accuracy = accuracy_score(y_test_encoded, y_pred)\n",
    "\n",
    "print(f\"Accuracy: {accuracy}\")\n",
    "\n",
    "# Precision\n",
    "precision = precision_score(y_test_encoded, y_pred)\n",
    "print(f\"Precision: {precision}\")\n",
    "\n",
    "# Recall\n",
    "recall = recall_score(y_test_encoded, y_pred)\n",
    "print(f\"Recall: {recall}\")\n",
    "\n",
    "# F1 score\n",
    "f1 = f1_score(y_test_encoded, y_pred)\n",
    "print(f\"F1 Score: {f1}\")\n",
    "\n",
    "# ROC-AUC score\n",
    "roc_auc = roc_auc_score(y_test_encoded, consp_classifier.predict_proba(X_test_tfidf)[:, 1])\n",
    "print(f\"ROC-AUC: {roc_auc}\")\n",
    "\n",
    "# Plot ROC curve\n",
    "fp, tp, thresholds = roc_curve(y_test_encoded, consp_classifier.predict_proba(X_test_tfidf)[:, 1])\n",
    "roc_auc = auc(fp, tp)\n",
    "\n",
    "plt.figure()\n",
    "plt.plot(\n",
    "        fp, \n",
    "        tp, \n",
    "        color='darkorange',\n",
    "        lw=2, \n",
    "        label='ROC curve (area = %0.2f)' % roc_auc)\n",
    "plt.plot([0, 1], [0, 1], color='navy', lw=2, linestyle='--')\n",
    "plt.xlim([0.0, 1.0])\n",
    "plt.ylim([0.0, 1.05])\n",
    "plt.xlabel('False Positive Rate')\n",
    "plt.ylabel('True Positive Rate')\n",
    "plt.title('Receiver Operating Characteristic')\n",
    "plt.legend(loc=\"lower right\")\n",
    "plt.show()\n"
   ]
  },
  {
   "cell_type": "code",
   "execution_count": null,
   "metadata": {},
   "outputs": [],
   "source": [
    "\n",
    "\n"
   ]
  },
  {
   "cell_type": "code",
   "execution_count": 13,
   "metadata": {},
   "outputs": [
    {
     "data": {
      "text/plain": [
       "['consp_classifier.joblib']"
      ]
     },
     "execution_count": 13,
     "metadata": {},
     "output_type": "execute_result"
    }
   ],
   "source": [
    "import joblib\n",
    "\n",
    "# Save the TF-IDF vectorizer model\n",
    "joblib.dump(tfidf_vectorizer, 'tfidf_vectorizer.joblib')\n",
    "\n",
    "# Save the model\n",
    "joblib.dump(consp_classifier, 'consp_classifier.joblib')\n",
    "\n"
   ]
  },
  {
   "cell_type": "code",
   "execution_count": null,
   "metadata": {},
   "outputs": [
    {
     "name": "stdout",
     "output_type": "stream",
     "text": [
      "Best Hyperparameters: {'max_depth': None, 'min_samples_leaf': 1, 'min_samples_split': 5, 'n_estimators': 300}\n",
      "Accuracy: 0.72\n",
      "Precision: 0.8194444444444444\n",
      "Recall: 0.5784313725490197\n",
      "F1 Score: 0.67816091954023\n",
      "ROC-AUC: 0.7811124449779911\n"
     ]
    }
   ],
   "source": [
    "from sklearn.model_selection import GridSearchCV\n",
    "\n",
    "# Define a parameter grid to search over\n",
    "param_grid = {\n",
    "    'n_estimators': [100, 200, 300],  # Number of trees in the forest\n",
    "    'max_depth': [None, 10, 20, 30],  # Maximum depth of the tree\n",
    "    'min_samples_split': [2, 5, 10],  # Minimum samples required to split an internal node\n",
    "    'min_samples_leaf': [1, 2, 4]  # Minimum samples required in a leaf node\n",
    "}\n",
    "\n",
    "# Create a grid search\n",
    "grid_search = GridSearchCV(\n",
    "    RandomForestClassifier(random_state=42),\n",
    "    param_grid,\n",
    "    cv=5,  # 5-fold cross-validation\n",
    "    scoring='accuracy',  # You can change the scoring metric as needed\n",
    "    n_jobs=-1,  # Use all available CPU cores for faster searching\n",
    ")\n",
    "\n",
    "# Fit the grid search to your data\n",
    "grid_search.fit(X_train, y_train)\n",
    "\n",
    "# Get the best hyperparameters found during the search\n",
    "best_params = grid_search.best_params_\n",
    "\n",
    "# Train a RandomForestClassifier with the best hyperparameters\n",
    "best_consp_classifier = RandomForestClassifier(random_state=42, **best_params)\n",
    "best_consp_classifier.fit(X_train, y_train)\n",
    "\n",
    "# Predict on the test set using the best classifier\n",
    "y_pred = best_consp_classifier.predict(X_test)\n",
    "\n",
    "# Calculate performance metrics\n",
    "accuracy = accuracy_score(y_test, y_pred)\n",
    "precision = precision_score(y_test, y_pred)\n",
    "recall = recall_score(y_test, y_pred)\n",
    "f1 = f1_score(y_test, y_pred)\n",
    "roc_auc = roc_auc_score(y_test, best_consp_classifier.predict_proba(X_test)[:, 1])\n",
    "\n",
    "print(\"Best Hyperparameters:\", best_params)\n",
    "print(f\"Accuracy: {accuracy}\")\n",
    "print(f\"Precision: {precision}\")\n",
    "print(f\"Recall: {recall}\")\n",
    "print(f\"F1 Score: {f1}\")\n",
    "print(f\"ROC-AUC: {roc_auc}\")\n",
    "\n",
    "\n"
   ]
  }
 ],
 "metadata": {
  "kernelspec": {
   "display_name": "base",
   "language": "python",
   "name": "python3"
  },
  "language_info": {
   "codemirror_mode": {
    "name": "ipython",
    "version": 3
   },
   "file_extension": ".py",
   "mimetype": "text/x-python",
   "name": "python",
   "nbconvert_exporter": "python",
   "pygments_lexer": "ipython3",
   "version": "3.8.8"
  }
 },
 "nbformat": 4,
 "nbformat_minor": 2
}
