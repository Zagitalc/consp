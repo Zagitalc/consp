{
 "cells": [
  {
   "cell_type": "code",
   "execution_count": 1,
   "metadata": {},
   "outputs": [],
   "source": [
    "#website UI and conspiracy theory classifier\n",
    "\n",
    "\n",
    "# TF-IDF (can try )\n",
    "#add / separate data (url useless , separate words)\n",
    "# try break urls e.g. https:\\/\\/www.zerohedge.com muight be conspiracy theory\n",
    "# tokenizer for sklearn before tfidf\n",
    "# concat the features into 1 set, instead of many features.\n",
    "# split into multiple trainign samples. 1 long para , split into eg 20 samples for training.\n",
    "\n",
    "# apply classifier to all sentences in the whole doc, is it 50%> is conspiracy (consistency) even if the article is conspiracy? find accuracy.\n",
    "\n",
    "#highlight where things ai thinks that are consp, \n",
    "\n",
    "#may experiment with chatgpt test if gives useful answers\n",
    "\n",
    "#if does, api ..to json to user interface\n",
    "\n",
    "#maybe heatmap visualisation\n",
    "\n",
    "import matplotlib.pyplot as plt\n",
    "import numpy as np\n",
    "import pandas as pd\n",
    "\n",
    "from sklearn.pipeline import Pipeline\n",
    "from sklearn.feature_extraction.text import TfidfVectorizer\n",
    "\n",
    "from sklearn.model_selection import train_test_split\n",
    "from sklearn.naive_bayes import MultinomialNB\n",
    "# from sklearn.neighbors import KNeighborsClassifier\n",
    "from sklearn.linear_model import LogisticRegression\n",
    "from sklearn.ensemble import RandomForestClassifier"
   ]
  },
  {
   "cell_type": "code",
   "execution_count": 2,
   "metadata": {},
   "outputs": [
    {
     "name": "stdout",
     "output_type": "stream",
     "text": [
      "                                                         title  \\\n",
      "60Bp0qJvvqA  The Second Book of Enoch (Human Voice, Read-Al...   \n",
      "KP6SZFQUDTs  Pastor David Lynn Schools a Muslim On Isaiah 4...   \n",
      "SOpvCubaIx0  Obama's Best Comebacks and Rebuttal Moments - ...   \n",
      "Cb1EDmVtg5M  BLACK MAN in a MAGA Hat & American Exceptional...   \n",
      "P3hY1eagq88                       Reagan Warned Us About Obama   \n",
      "...                                                        ...   \n",
      "6Ib-K5nf_Ag        Chair Pulling Pranks (Gone Wrong) - 2018 !!   \n",
      "-7SsM4Q69Yo  Firefighters Laugh At Inappropriate Moments (E...   \n",
      "rXj6MMurcOk  Joshua Kutuny: Aaron Cheruiyot is not aware of...   \n",
      "lDbW2PpuOPM  The Wandering Trader Update is BAD... so we ch...   \n",
      "GvF2fIKik-M  Hurricane Dorian Scenarios: Breaking Down Stor...   \n",
      "\n",
      "                   channel_title  view_count  \\\n",
      "60Bp0qJvvqA      Apocryphile1970   1051238.0   \n",
      "KP6SZFQUDTs           SOCO Films   1145750.0   \n",
      "SOpvCubaIx0         Epic Moments   1086910.0   \n",
      "Cb1EDmVtg5M      Y.G. NYGHTSTORM    873200.0   \n",
      "P3hY1eagq88          Calvin King  19999350.0   \n",
      "...                          ...         ...   \n",
      "6Ib-K5nf_Ag                Jixcx    120493.0   \n",
      "-7SsM4Q69Yo    Updoot Everything    129570.0   \n",
      "rXj6MMurcOk      Kenya CitizenTV     47585.0   \n",
      "lDbW2PpuOPM            Logdotzip    725547.0   \n",
      "GvF2fIKik-M  NBC 6 South Florida     28459.0   \n",
      "\n",
      "                                                          tags  \\\n",
      "60Bp0qJvvqA  [Book of Enoch, Second Book of Enoch, Secrets ...   \n",
      "KP6SZFQUDTs                                               None   \n",
      "SOpvCubaIx0  [Obama Comebacks, Obama Rebuttals, Obama Cool ...   \n",
      "Cb1EDmVtg5M  [#MAGA #TRUMP2020 #WalkAwayCampaign #WalkAway ...   \n",
      "P3hY1eagq88  [Obama, Reagan, New, World, Order, Illuminati,...   \n",
      "...                                                        ...   \n",
      "6Ib-K5nf_Ag  [Chair Pulling Pranks, Gone Wrong, 2018, Prank...   \n",
      "-7SsM4Q69Yo  [#updootst, updoot, reddit, r/askreddit, askre...   \n",
      "rXj6MMurcOk  [Arron Cheruiyot, Mau evictions, Joshua Kutuny...   \n",
      "lDbW2PpuOPM  [minecraft, minecraft 1.14, wandering villager...   \n",
      "GvF2fIKik-M  [nbc 6, nbc, wtvj, south florida, south florid...   \n",
      "\n",
      "                                                   description  label  \n",
      "60Bp0qJvvqA  There are many ways you can help me to bring t...     -1  \n",
      "KP6SZFQUDTs  Christian ~ Muslim debate | Speakers Corner | ...     -1  \n",
      "SOpvCubaIx0  Part 2 of President Obama's best comeback and ...     -1  \n",
      "Cb1EDmVtg5M  “The BEST thing to ever happen to me financial...     -1  \n",
      "P3hY1eagq88  How Reagan summed up Obama in the first 5 minu...     -1  \n",
      "...                                                        ...    ...  \n",
      "6Ib-K5nf_Ag  Chair Pulling Pranks (Gone Wrong) - 2018 !!\\nV...     -1  \n",
      "-7SsM4Q69Yo  Fresh AskReddit Stories: Police Officers/Firef...     -1  \n",
      "rXj6MMurcOk  “Jeff one thing that first of all I want to re...     -1  \n",
      "lDbW2PpuOPM  We made an Update to Minecraft 1.14 that adds ...     -1  \n",
      "GvF2fIKik-M  Meteorologist Angie Lassman breaks down variou...     -1  \n",
      "\n",
      "[1110 rows x 6 columns]\n"
     ]
    }
   ],
   "source": [
    "df=pd.read_json('yt_training_set.json')\n",
    "\n",
    "df = pd.DataFrame(df)\n",
    "print(df)"
   ]
  },
  {
   "cell_type": "code",
   "execution_count": 3,
   "metadata": {},
   "outputs": [
    {
     "name": "stdout",
     "output_type": "stream",
     "text": [
      "Index(['title', 'channel_title', 'view_count', 'tags', 'description', 'label'], dtype='object')\n"
     ]
    }
   ],
   "source": [
    "headers = df.keys()\n",
    "print(headers)"
   ]
  },
  {
   "cell_type": "code",
   "execution_count": null,
   "metadata": {},
   "outputs": [],
   "source": []
  },
  {
   "cell_type": "code",
   "execution_count": 7,
   "metadata": {},
   "outputs": [
    {
     "name": "stdout",
     "output_type": "stream",
     "text": [
      "                                                 title  \\\n",
      "0    The Second Book of Enoch (Human Voice, Read-Al...   \n",
      "1    Obama's Best Comebacks and Rebuttal Moments - ...   \n",
      "2    BLACK MAN in a MAGA Hat & American Exceptional...   \n",
      "3                         Reagan Warned Us About Obama   \n",
      "4    TRUMP'S SECRET PLAN: HOW THE GOVT SHUTDOWN IS ...   \n",
      "..                                                 ...   \n",
      "993        Chair Pulling Pranks (Gone Wrong) - 2018 !!   \n",
      "994  Firefighters Laugh At Inappropriate Moments (E...   \n",
      "995  Joshua Kutuny: Aaron Cheruiyot is not aware of...   \n",
      "996  The Wandering Trader Update is BAD... so we ch...   \n",
      "997  Hurricane Dorian Scenarios: Breaking Down Stor...   \n",
      "\n",
      "               channel_title  view_count  \\\n",
      "0            Apocryphile1970   1051238.0   \n",
      "1               Epic Moments   1086910.0   \n",
      "2            Y.G. NYGHTSTORM    873200.0   \n",
      "3                Calvin King  19999350.0   \n",
      "4    The Josh Bernstein Show    825281.0   \n",
      "..                       ...         ...   \n",
      "993                    Jixcx    120493.0   \n",
      "994        Updoot Everything    129570.0   \n",
      "995          Kenya CitizenTV     47585.0   \n",
      "996                Logdotzip    725547.0   \n",
      "997      NBC 6 South Florida     28459.0   \n",
      "\n",
      "                                                  tags  \\\n",
      "0    [Book of Enoch, Second Book of Enoch, Secrets ...   \n",
      "1    [Obama Comebacks, Obama Rebuttals, Obama Cool ...   \n",
      "2    [#MAGA #TRUMP2020 #WalkAwayCampaign #WalkAway ...   \n",
      "3    [Obama, Reagan, New, World, Order, Illuminati,...   \n",
      "4    [Govt Shutdown, Government Shutdown, Drain The...   \n",
      "..                                                 ...   \n",
      "993  [Chair Pulling Pranks, Gone Wrong, 2018, Prank...   \n",
      "994  [#updootst, updoot, reddit, r/askreddit, askre...   \n",
      "995  [Arron Cheruiyot, Mau evictions, Joshua Kutuny...   \n",
      "996  [minecraft, minecraft 1.14, wandering villager...   \n",
      "997  [nbc 6, nbc, wtvj, south florida, south florid...   \n",
      "\n",
      "                                           description  label  \n",
      "0    There are many ways you can help me to bring t...     -1  \n",
      "1    Part 2 of President Obama's best comeback and ...     -1  \n",
      "2    “The BEST thing to ever happen to me financial...     -1  \n",
      "3    How Reagan summed up Obama in the first 5 minu...     -1  \n",
      "4    The longer the #GovernmentShutdown continues t...     -1  \n",
      "..                                                 ...    ...  \n",
      "993  Chair Pulling Pranks (Gone Wrong) - 2018 !!\\nV...     -1  \n",
      "994  Fresh AskReddit Stories: Police Officers/Firef...     -1  \n",
      "995  “Jeff one thing that first of all I want to re...     -1  \n",
      "996  We made an Update to Minecraft 1.14 that adds ...     -1  \n",
      "997  Meteorologist Angie Lassman breaks down variou...     -1  \n",
      "\n",
      "[998 rows x 6 columns]\n"
     ]
    }
   ],
   "source": [
    "\n",
    "\n",
    "# Specify the columns (categories) from which you want to drop rows with missing values\n",
    "columns_to_dropna = [\"title\", \"channel_title\", \"view_count\", \"tags\", \"description\", \"label\"]\n",
    "\n",
    "# Use the dropna method with how='any' to drop rows with missing values from the specified columns\n",
    "filtered_data = df.dropna(subset=columns_to_dropna, how='any')\n",
    "\n",
    "# print(filtered_data)\n",
    "new_df=pd.DataFrame(filtered_data)\n",
    "\n",
    "\n",
    "\n",
    "new_dataframe= pd.DataFrame({'title': new_df[\"title\"].values,\"channel_title\": new_df[\"channel_title\"].values,\"view_count\":new_df[\"view_count\"].values,\"tags\":new_df[\"tags\"].values,\"description\":new_df[\"description\"].values,'label': new_df[\"label\"].values})\n",
    "print(new_dataframe)"
   ]
  },
  {
   "cell_type": "code",
   "execution_count": 19,
   "metadata": {},
   "outputs": [
    {
     "name": "stdout",
     "output_type": "stream",
     "text": [
      "['The Second Book of Enoch (Human Voice, Read-Along Version) Obama\\'s Best Comebacks and Rebuttal Moments - Part 2 BLACK MAN in a MAGA Hat & American Exceptionalism #WalkAway pt  2 #TRUMP2020 Reagan Warned Us About Obama TRUMP\\'S SECRET PLAN: HOW THE GOVT SHUTDOWN IS RAPIDLY DRAINING THE SWAMP Glenn Beck Presents: The Democrats’ Hydra Roger Stone Reveals All After Court Appearance GHWB Poppy Bush funeral Notes | Pence a Straight Arrow? Americans Forced To Comply By 2020—No Compliance, No Entry and The Bill Already Passed Russia Collusion Peddlers Will Turn on Each Other—Trump 2020 Adviser Steven Rogers THIS IS THE MOST POWERFUL ARGUMENT I HAVE HEARD AGAINST SANCTUARY CITIES IN AMERICA. Migrant Caravan: Will Trump Stop It? America\\'s 60 Greatest Unsolved Mysteries & Crimes (E8, S1) World War I - summary of the \"Great War\" Yogis Of Tibet - Documentary - The Truth in The Dharma What is China’s Grand Strategy? 9-Ton Slab of Glass Found in the Cave of Beit Shearim Film Theory: Why You SHOULDN\\'T FLY to Mordor! (The Lord of the Rings) What is Consciousness? What is Its Purpose? Genius Channel: Albert Einstein Part 1: The Biography “Conservative Civil Disobedience?” - Charles Murray Hillary Clinton\\'s Illness Revealed Malcolm X - Interview At Berkeley (1963) Post Malone - Take What You Want (Audio) ft. Ozzy Osbourne, Travis Scott Medal of Honor recipient recalls deadly ambush If the Moon were replaced with some of our planets What’s next for the royal family after Prince Harry, Meghan step down l GMA Why NASA never went back to the moon... Prince Harry and Meghan\\'s \\'bombshell\\' departure explained Horrifying Deep Web Stories \"Why I Quit Hacking..\" (Graphic) A Scary Hacker Story SHOCKING PROPHECY that proves Pastor Alph Lukau IS NOT A HUMAN. The Truth About Hillary\\'s Bizarre Behavior *AGE OF DECEIT* (FULL) Fallen Angels and the New World Order Sting destroys Seth Rollins statue: Raw, September 7, 2015 Dr. Bruce Lipton Explains HOW WE ARE PROGRAMMED AT BIRTH (an eye opening video) The Secrets of the Beauty World 528Hz - Whole Body Regeneration - Full Body Healing | Emotional & Physical Healing Film Theory: What is the Bird Box Monster? (Bird Box Netflix) UFO SHOOTS DOWN NASA SHUTTLE STS107 - I Want ANSWERS On This One 11-21-2013 Shocking Moments Caught on Camera salmon fishing tsunami indonesia 2018 Will Scare The Crap Out Of You (End Times) By the way, Can You Survive Bird Box? Trump is the Last President! You are the Last Generation! Scientist and the Elite Try to Hide What Really Happened at CERN, Demonic Entities, Extra Dimensions What They Secretly Told Us During the Half-Time Show (Super Bowl 2019) TESLA TRUMP & THE TIME CAPSULE! DARK JOURNALIST X SERIES IV Antony C. Sutton: NWO Wall Street financed Nazis 1920s+30s & Communist Russian Revolution 1917 Timothy Alberino Explains Where The NEPHILIM GIANTS Are Hiding NOW Prepare to Flee The Cities! TRUMP Just made WARNING Speech! No more FOOD Stamps? Civil CRISIS here! White Helmets | Official Trailer [HD] | Netflix Deep State - 13 BLOODLINES & their Diabolical End Game | Tentacles of the Deep State [2018] PART 3 [11.28] Trump\\'s Treason Meme / NASA Mars Landing / Antarctica / GMO Mosquitoes / Vaccines ROTHSCHILD GENOCIDE: INNOVATING THE POPULATION TO ZERO --  Deborah Tavares On Marxism in America, the Communist China Threat, Unconventional Warfare & Hong Kong—Joshua Philipp The NZ Mosque Attack Doesn\\'t Add Up - Here\\'s Why The Truth About The EU \"BREXIT\"  Illuminati, Rothschild. Wildfires erupt in California, destroying homes and vehicles Jesse Ventura: Will Assange be the first journalist prosecuted under the Espionage Act? Roger Stone: \\'No evidence to support\\' that I was link between WikiLeaks and Trump Barack Obama has a message about being politically woke The life and legacy of George H.W. Bush Virginia Legislature Strikes Back,  HB No. 67! Here\\'s What\\'s Happening Now \\'This Is a Mob\\': \\'Angel Mom\\' Says Migrant Caravan Must Be Stopped Barack Obama speaks at Elijah Cummings\\' funeral The Real Da Vinci Code with Tony Robinson 1989 - American Indian Activist Russell Means testifies at Senate Hearing Bizzy Bone Talks Illuminati, Artists Selling Their Souls for Fame and Money The Trump Presidency- Prophetic Projections and Patterns | Episode 879 Pro-255 - Prophecy Update, 7 October 2018 (A World Divided) What They Haven\\'t Told You about Climate Change Climate Change: What Do Scientists Say? ACTUAL SCIENTIST: \"Climate Change is a Scam!\" The Great Global Warming Swindle - Full Documentary HD Fatal Flaw In Climate Change Science CIA Whistleblower Speaks Out About Climate Engineering, Vaccination Dangers, and 911 25 NASA Scientists Question the Sanity of the Global Warmists Coronavirus Update: 5 Facts & Action Steps (2019-nCoV) Coronavirus Epidemic Update 9: Fecal-Oral Transmission, Recovery vs Death Rate Coronavirus Spread Self-Sustaining, Won\\'t Stop With Warmer Weather: CFR NSW Health issues statement about school attendance after coronavirus infections | 7NEWS Scientific Proofs that Wuhan Coronavirus Is China’s Bioweapon. By Chapman Chen, HKBNews CALIFORNIA FIRES :   WOOLSEY FIRE EVACUATION FOOTAGE This Woman Caused The Coronavirus.. (Bat Soup) Coronavirus Patent # 10,130,701 (Bill & Melinda Gates Foundation) Chinese Coronavirus: What to Know & What to Do (2019-nCoV) Coronavirus Patents and Must Read Health Info The Next Fad Disease, The Coronavirus Breaking: Coronavirus Is Bioweapon For Population Control Casino \"Take this one and stick it up your sisters a$$, hit me again\" scene Someone Tried To Break into the House Liberal MP John Alexander says \\'these fires are climate change\\' Mind Blowing Videos That Will Give You The Chills... Regina reviews decision to hire climate change skeptic for sustainability conference Causes and Effects of Climate Change | National Geographic Scientist Explains Climate Change Using Maps | WIRED The reality of climate change | David Puttnam | TEDxDublin NASA\\'s Research on Climate Change | Above and Beyond Does The Weather Actually Affect Your Mood? \"They Can\\'t Hide It Anymore\" (unseen footage) Alexandria Ocasio-Cortez - Bringing Moral Courage to American Politics | The Daily Show Annie Jacobsen, \"Operation Paperclip\" Did Bill Gates & World Economic Forum Predict Coronavirus Outbreak? An Inside Look May Shock You! Operation InfeKtion: How Russia Perfected the Art of War | NYT Opinion Xinhua unveils world\\'s first female AI news anchor Seeing is believing! THEY LIvE ! VR Demo: Oculus Rift 🕶️ Joyner Lucas - I Love (ADHD) Brainwashing In Video Games l Episode 2: Naughty Dog\\'s Uncharted Anneke Lucas Talks About Her Mom, Society And Emotional Maturity Ocasio-Cortez Facing JAIL Over ILLEGAL Campaign Slush Fund??! \"She\\'s just lying, they all are\" Tucker Carlson on Twitter execs on Joe Rogan podcast Captain Marvel is a Massive \\'\\'Success\\'\\' - Empty Theaters, Deleted User Ratings, Bot Reviews Derren Brown | The Events: How to Be a Psychic Spy FULL EPISODE Lost For Words Boycott Coca Cola BBC Reporter Corrects US Media on Venezuela W/Greg Palast Oklahoma Hunter Catches Kangaroo On Camera | Kangoroo In Oklahoma After Winning 15$ Minimum Wage Hours CUT, Employees MUST Work HARDER Shaista Gohir: Muslim Men Don\\'t Like Muslim Feminists China’s Crisis and The Coming Global Recession (w/ Kyle Bass) | Interview | Real Vision™ Estevan Point Bombing : A Shot in the Dark (1995) - The Fifth Estate How we need to remake the internet | Jaron Lanier Do Australians have a right to freedom of speech? The real reason Congress is targeting Ilhan Omar - 3/7/2019 (Hint: it\\'s about the Israel lobby) Why do we need Ruler\\'s at all & Human ownership Police Harass Colorado Man At Gun Point On His Own Property Watch the US Navy\\'s laser weapon in action Visions, Illusions and Delusions: 2017–18 season trailer A Shift In Power  - Official Trailer | A Into The Deep Original Documentary Series #Pedogate Academic Hoax Diabolical Economic Process Enslaves Us And Almost Nobody Realizes It OPRAH SUPPORTING HBO’S ‘LEAVING NEVERLAND’ MICHAEL JACKSON DOCUMENTARY?! (HIStory In The Mix) Joe Rogan Experience #1258 - Jack Dorsey, Vijaya Gadde & Tim Pool Two big reasons my generation hates free speech Eisenhower Farewell Address (Best Quality) - \\'Military Industrial Complex\\' WARNING Massive Attack perform  Ultravox - Rockwrok  The Steelyard  Bristol Michael Jackson’s alleged child abuse victims speak out Propaganda Terms in the Media and What They Mean - Noam Chomsky Citizens\\' Commission to Investigate the FBI: 1971 Dr. Martin Pall To The NIH: \"The 5G Rollout Is Absolutely Insane.\" Are we alone? Waco the Big Lie 2 of 3 Ernst Zundel on \\'Crossfire\\' 1985 Climate Crisis : New 2019 UK Report Debunking Chemtrails – Introduction – #1 Bush Questioned about 9/11 Commission Steve-O Debunks Flat Earth Theory in 2 Minutes - The Joe Rogan Experience Mysterious Universe - NOVA Documentary HD The Biggest Air Refueling Mishaps Caught On Camera How the Universe Works - From The Big Bang To The Present Day - Space Discovery Documentary Why are the airplanes losing speed? Documentary 2015 Universe Documentary Clockwork and Creation & Frozen Wanderers National Geographic   Devils Bible How I learned to read -- and trade stocks -- in prison | Curtis \"Wall Street\" Carroll The mathematics of weight loss | Ruben Meerman | TEDxQUT (edited version) Everything is a Lie Trigeminal Neuralgia Pain Remedy Testimonal.mp4 David Icke - Saturn Isn\\'t What You Think It Is Either Ravi Zacharias on the Christian View of Homosexuality #Apologetics Dangerous Biggest Heavy Duty Hammer Forging Process, Fastest Hydraulic Steel Forging Machine Avril Lavigne - Girlfriend (Live) Avril Lavigne - Smile (AOL Sessions) The Surprisingly Interesting History Of The Oval Office Desk The US Government\\'s Secret Airline Podesta: Comey is an \\'honest idiot\\' CORSI EXPOSES TRUTH | TRUMP RECRUITED BY MILITARY!!! TRANSGENDER -GENDER IDENTITY -GENDER DYSPHORIA ISSUES || Pediatrician: Dr Michelle Cretella Tiller Wills 11:11 | Native American version Best of Flat Earth Testimonies Evolution vs DNA science Mosaic of Systemic Corruption in Science JKL | Bobi Wine, Babu Owino speaking on #JKLive [Part 1] How Sovereign Immunity Works Jacob Rothschild. Anunnaki-Reptilian. Bankster. PINDAR - The Lizard King NASA and Freemasonry : Edward Hendrie The Kuwaiti Incubator Babies - LIE The Incubator Babies Conspiracy Cointelpro Documentary, Part 3 of 6 (confessions of FBI informant Darthard Perry) Why Are American Health Care Costs So High? Mexican Farmers Protest The Entrance of GMO Corn Sept 12, 2001: Neocons Mention Anthrax, Push For War on Palestine and Iraq Disgusting Pink Slime Served In School Lunches There are no forests on Flat Earth author interview Gulf of Mexico was a Giant Mining Quarry THE NUCLEAR HOAX AN INCONVENIENT 9/11 TRUTH [Part I] (2017 version) Freemasonry  Secrets From Their Books Of The Masonic Order We know now who killed JFK. Space is fake? SHUT THE FRONT SPACE DOOR!! (Flat Earth Proof) House of Windsor and the New World Order Lawrence Krauss Scientism\\'s Cult Leader Lies About Evolution Krs One - Explains the Illuminati, Freemasons, and if he\\'s a member Mystery of the Widow\\'s Son - The Legend of the Craft Weekend Geo Engineering In Sydney The Most Important Video You Will Ever Watch - The Jesuits, Kingpins Of The Matrix (MIRRORED) What you need to know about GIANT ANCIENT TREE STUMPS...you won\\'t believe it! The Religion of the 21st Century: Scientism \"Follow Science Be Smart\" Conclusive Evidence the 9/11 Planes were NOT REAL Flat Earth | Joe Rogan & Neil deGrasse Tyson Gets Destroyed In 16 Minutes The DINOSAUR Conspiracy - LOST Episode - SPACE ERASED The NASA FRAUDCAST - FLAT EARTH - EP 116 Historical Origins Of The Jesuit Order. The Diabolical Society Of Jesus & Knights Of Malta Exposed! Untold Truth About African Americans - You Are Not From Africa Nor Are You An African Dark Legacy: George Bush And The Murder Of John Kennedy Flat Earth - The Rest of the Story Psywar - Full Documentary The Assassination of JFK Jr Proof the Grand Canyon monuments are ancient pyramids Rocket hitting the flat earth dome Stonehenge is FAKE! No Longer Authentic. Reassembled With Cranes. ISS Space Station hoax yes the ISS and pretty much everything else to do with NASA Aleister Crowley, the Wickedest Man in the World | Explained in 5 Minutes | reallygraceful California Fire Walkthrough Multiple Anomalies FLAT EARTH Clues Introduction  - Mark Sargent ✅ The Secret History of The Khazarian Mafia JFK Secret Societies Speech (full version) THE CHEMTRAILS GIRLS - STOP GEOENGINEERING NOW -DOCUMENTARY NASA = FAKE - Freemasons Busted ISS Space Travel Hoax  - Mega Compilation #1 Flat Earth - Ancient Tree - Giants - Emerald City & More NASA Challenger HOAX crew still alive Support Johnny\\nhttp://johnnycirucci.com/support/\\nEJP is a liar, Johnny Cirucci tells the truth Flat Earth - ISS Studio Exposed JFK Jr. Told The World What Happened to His Father – But Nobody Was Paying Attention 5G Microwave Technology And The California Fires | DIRECTED ENERGY WEAPONS # WEDONOTCONSENT FLAT EARTH | The Giza Pyramids & Sphinx HOAX (2-part series)(MUST SEE!) No Forests on Flat Earth - New Evidence - Toltec pottery Christopher Bollyn: The Man Who Solved 9/11 IMPOSSIBALL 🌎 Flat Earth Documentary (2017) MOUNTAINS ARE DEAD GIANT TREES ON FLAT EARTH PLANE!!! Bill Nye vs Flat Earth Asshole No Planes on 911 - Part 1 by Gari Jones kingdrop 2017 | No Pyramids on Flat Earth! Excavated or Constructed?? | Coosa \"Little Egypt\" pt 1 World Secrets - Freemasons, Ancient Egypt, Knights Templar, Enoch etc. FLAT BASTARD ASKS NEIL ARMSTRONG  -  \"DID YE\\' REALLY GO TO THE MOON? - FLAT EARTH There are No Forests on Flat Earth Decoded (Part 4) Know Them By Their Fruits  🍊 Vatican Secret Societies, NWO, The Devil\\'s General Full Documentary NUCLEAR WEAPONS DO NOT EXIST The  Documentary By Edmund Matthews Flat Earth Physics: Episode 4.0 - The ISS, satellites, and the thermosphere California Fires: Terracotta Roof Anomaly: Microwave Assisted Combustion Synthesis Eyes Wide Shut | Illuminati, Sex Magick & the Rothschild Surrealist Ball ▶️️ Flat Earth: 5 Potential Answers to \"Why would they Lie?\" (A FE Discussion) List of Freemason Celebrities: The Brotherhood NASA Satellite Images Prove Storms Can Be Man Made - Cloud Seeding & HAARP Elana Freeland - Chemtrails, HAARP, and the Full Spectrum Dominance of Planet Earth 9 Lunar Waves Filmed - Game Change Evolution Theory MODERN MYTH // Ancient Man was NOT primitive Flat Earth - The Truth, The Mockery & The Proof! Esoteric Freemasonry: The 33rd Degree. Flat Earth, Basalt Columns & the Lost Trees of Old... What you need to know about the ILLUMINATI CARD GAME...absolute MADNESS! MUST SEE!!!  No satellites in space!  Just balloons above the Flat Earth THE MEANING BEHIND THE \"VULCAN\" SIGN! HIROSHIMA: WHAT REALLY HAPPENED? Nuclear truth *NO GRAPHICS* Rerevisionist & John Friend ODD TV\\'s Flat Earth Trilogy | True World, Learning Curve and Epic Deception ▶️️ Dinosaurs Debunked in 3 minutes! TUTANKHAMUN the boy king . . . . (((BULLSHIT))) Banksters, Gangsters & the New World Order | Federal Reserve Documentary ▶️️ Rick and Morty 9/11 Truth Hidden In Plain Sight - Illuminati George HW  Bush & the JFK Assassination #noenginesmatter  Pearl Harbor was a hoax:  Current Affairs series Flat Earth: Jesuits & the Global Conspiracy! Proof of Weather Modification | NASA, HAARP & Chemtrail Technology ▶️️ Everything you\\'ve been taught about ancient history is a lie PT.1 Link to part 2 in description ✅ ACTUAL FOOTAGE OF THE STARS AND PLANETS | \"WANDERING STARS\" as Captured by Curious Truth Seekers. There are no forests on earth! (English dubbed) FOX NEWS ADMITS GOVERNMENT USING LASERS (DEW) BEFORE CA FIRES Wildfire 2017 California-Drone footage-Directed Energy Weapon GEORGE H W BUSH ROLE IN THE JFK ASSASSINATION VIDEO JFK was ASSASSINATED BY THE CIA GEORGE HW BUSH was INVOLVED.avi FLAT EARTH | 4 Hour Documentary by Russianvids (RV TRUTH) Ancient mining and forest clearing grid Stand for the Truth: A Government Researcher Speaks Out | 9/11 Evidence and NIST Bill Hicks in 1994 Playing the Character Alex Jones This is EXACTLY how NASA fakes everything MISINFORMATION: Las Vegas Police The Greatest Kept Secret of Freemasonry REVEALED! Dave Murphy on Late Night With Milenko / Bro Sanchez \"Why It\\'s Important?\" History is A lie Agreed Upon Galen Winsor -  The Grand Nuclear Hoax Pearl Harbor.. Another False Flag The Eddie Bravo Conspiracy Compilation - The Joe Rogan Experience How To Protect Agaist Effects of Chemtrails and Fluoride Photo of George H.W. Bush at Funeral with JFK Proves TREASON Occulted Anatomy: Masonic Symbolism, Arc of the Covenant, the Brain/ Universe The Dinosaur Hoax is an Absurd Fallacy 97% Owned - Economic Truth documentary - How is Money Created Industrial Valve Expert: The ISS is a LIE - Flat Earth Chemtrails | 100% Proof | Geoengineering ▶️️ The Exploding Autoimmune Epidemic - Dr. Tent Medical Kidnapping and Child Protective Services 7 Benefits of Intermittent  Fasting Replacing Medicaid with Real Charity What is Fatty Liver | Common Signs of Fatty Liver Authorities in Romania, want to remove the panels, that inform the population about vaccines. Why? The Effect of Aluminum in Vaccines on Humans How to Construct a Blood Electrifier Circuit following Dr. Beck K-Eye Report: Mercury Is Good For Your Children OBJECT\\'S PASSING THE SUN AND CHANGING DIRECTION+ Walking on the Moon ! UFOs over TEXAS on NASA TV: Uncut The Law of One - Session 01 of 106 - Part (1of 1) - The Ra Material Geoengineering Watch Global Alert News, March 9, 2019, #187 ( Dane Wigington ) Alex Jones & Eddie Bravo on Tower 7 | Joe Rogan Demons & The Internet MOMO Slender Man BEWARE / Orbs In England /OOPAA\"s EP113 Michael Tellinger: Hidden Origins, Fossils of Giants and the Shift in Consciousness NEW LECTURE Introduction to Building 7 10 Lunar Waves Filmed To Date & What We Now Know Rockets Cannot Propel In Space Metal bands predicted 9/11 and I can prove it UFO called a ground light, then a star by NASA Twilight Zone -  Mandalay Bay Security Room Mystery A Simple Understanding of our \"Prison Planet\" Most Potent Alignment on Earth the 33rd Parallel - Masonic Line of Death Wagging the Moondoggie Parts 1-2 - BEST MOON LANDINGS HOAX Micro-satellite to inspect if Americans did land on Moon U.S. Army granted ISIS safe passage in exchange for 50 tons of gold Frank Joseph:  The Lost Civilizations of Atlantis & Lemuria - Part 2/2 Ancient Nuclear Battles and power stations...The evidence Frank Joseph:  The Lost Civilizations of Atlantis & Lemuria - Part 1/2 The Brains Behind AOC Alexandria Ocasio-Cortez The Biggest Lie Of All (Both Parts) Delaying MMR Isn\\'t Enough Lovelock Cave: Red-Haired Giants of Ancient Nevada - DOCUMENTARY (Part 1) CE5 CSETI contacting Orbs - UAP NASA\\'s Rocket Thrust Equation Invalidated Geoengineering, Weather Modification, and Weaponizing Nature ROSEANNE ON SATANISM, MK ULTRA, AND REPTILIANS Titanic Conspiracy Theories (part 1) THEY WANT YOU TO BE POOR - An Eye Opening Interview Did The Anunnaki Build The Pyramids of Giza? Thoth=Ningishzidda Persecution, Suppression & Extradition by Big Pharma = Revenue Protection Introduction to Science and Spirituality: The Heart and Consciousness Alex Jones, DMT and the Clockwork Elves Worldwide Megalithic Civilization of Elongated Skull Rulers Part 3 The Holocaust Never Happened Cathy O Brien on the Trance Formation of America Operation Dark Winter Evidence of Revision (The assassination of America) MUST SEE! BLACK FBI SPY TELLS EVERYTHING Latest Qanon Posts 9-22-18 Pt2 :PANIC, PANIC, PANIC.... What you need to know about ASTANA, KAZAKHSTAN and the ILLUMINATI 9-11 passenger Danny Lewin and his mysterious watch McCain and the Anthrax scare David Seaman Discusses The Unsealed Sex Trafficking Indictments 💣💣💣 TI NEWS - AUTHOR PHILIP K DICK WAS A TI 911 Bush and Cheney won\\'t testify under oath A Conversation with Francis Richard Conolly Director of JFK to 9/11 Everything Is A Rich Man\\'s Trick 9/11 Trillions: Follow The Money I\\'d go to the moon, but we don\\'t have that technology anymore - NASA Astronaut Don Pettit Truth About Syria : a Manufactured War Against An Independent Country DEF CON 22 - Richard Thieme - The Only Way to Tell the Truth is in Fiction MUST SEE! Apollo Astronaut SHOCKED By UFO Flying Over Moon Surface Roger Stone: Mueller Trying to Snag Trump Over Flynn, Comey Firings Neil Armstrong was Yuri Gagarin  ---   NASA HOAX newMANDELAfx HATSHEPSUT - CaseClosed George Webb 500 Day Summary - Part 1 - AQ Khan and the Al Queda Bomb Loyall Nine Interviews Eliahi Peter Priest AKA Contact Zero Tin Foil Hat With Sam Tripoli #113: Eddie Bravo Believes None Of It Did Clapper and Comey Collude with CNN? How the NSA tracks you (SHA2017) Q AN0N: Latest New Posts - \"The world is watching.\" Democrats SHUT DOWN Seth Rich Investigation? Rod Wheeler Flips Story After Awan Bros Call Out moon landing at the Ontario Science Centre Mark Levin: Constitution compels Jeff Sessions to dismiss Robert Mueller from non-campaign cases Alex Collier Moon Mars Lecture 1996 (Rare Colour Version) YOU TUBE\\'S 10,000 ENFORCER STASI SQUAD EXPOSED Qanon Community Responds to Media Disinformation Campaign Urgent! Forbidden information,a must watch! 5G is a kill grid that will lead to forced vaccinations. Astana Kazakhstan Shows the USA Nuked and The Mark of the Beast and the Rapture. NWO Illuminati . Avril lavigne - Tomorrow live dedacated to her grandfather The Sandy Hook Smoking Gun ( Wolfgang Halbig Update ) Nasa  admits humans can\\'t  pass through the dangerous Van Allen Belts What will it take for you to finally admit that we never went to the moon? Is the IDF Harvesting Haitian Organs? RON PAUL ADMITS TO CIA DRUG SMUGGLING/DEALING Drill To Simulate National Power Failure Set For November 4th-6th 9/11: A Conspiracy Theory Latest Qanon Posts 9-22-18 Pt1 : UK/AU Panic, RR To Wear \\'Wire\\' Latest Qanon Posts 9-22-18 Pt3 : New VOAT Site Q: \"[Reddit Replacement], https://voat.co/v/QRV\" - PATRIOTS\\' SOAPBOX NEWS, LIVE 24/7 RADIO Tom Fitton\\'s Weekly Update - \\'What did Obama know about the Clinton/DNC Dossier?\\' The Heart and Stroke Foundation Owes Canadian Parents an Apology CRUISE SHIPS In BAD WEATHER // Heavy Seas in Storm Insane Way El Chapo Escaped Prison 13 INSANE Creatures Created by Scientists! How do vaccines work? - Kelwalin Dhanasarnsombut I Drank Only Water for 20 Days, See What Happened to My Body Rare Diseases That Give People Superhero-Like Abilities How 5G will change your smartphone, and your life in 2019 Why graphene hasn’t taken over the world...yet September 11 US Army General Whistle Blower The Truth About Vaccines Docu-series - Episode 1 | Robert F. Kennedy Jr Interview | Smallpox Vaccine What Chemtrails Are Doing To Your Brain - Neurosurgeon Dr. Russell Blaylock Reveals Shocking Facts. Lord Christopher Monckton - Global Warming is a Hoax Stuff They Don\\'t Want You To Know - Flat Earth Monsanto Documentary MONSATAN Terrifying home footage of recent California Fires Something Prophetic is Happening in California! Three reasons BRIGHT INSIGHT is RIGHT about Atlantis! Cat & Scarab Mummies, Lion Statues and Sealed Tomb Found in Egypt | Ancient Architects TheTruth About Your Food with FOOD, INC. Filmmaker Robert Kenner The World According to Monsanto (Full Length) HD Tekashi 6ix9ine Welcomed In To The Illuminati - \"FEFE\" Exposed! Amazing Way To Convert Famicom Cartridges To English! Our Search for the Truth Has Returned... DestinationDeclassified is Back 👽 The Battle of Los Angeles SHARK TANK DIDN\\'T TAKE THIS DEAL..!?!? 9 DATES WHEN THE WORLD WILL PROBABLY END... OOPS! Supersymmetric Particle Found? | Space Time Nobel Laureate Smashes the Global Warming Hoax FAMOUS Tourist Attractions That No Longer Exist Because We\\'ve Destroyed Them 5 CREEPIEST Secret Rooms EVER Found In People\\'s Homes... 11 Places on Earth No Human Has Ever Set Foot on The most mysterious star in the universe | Tabetha Boyajian The Truth May Scare You... (Look Closely 2019-2020) The Ending of The Matrix Trilogy Finally Explained 25 SNEAKY Lies You Were Told About Space How SpaceX and Boeing will get Astronauts to the ISS The truth about global warming Where Are The Dead? A Biblical Look At What Happens When We Die. 10 Scientifically Impossible Places That Actually Exist DEBUNKED: Top 5 \"Climate Change\" Myths 12 Strangest Things Found in the Middle of Nowhere 10 Most Insane Secret Weapons In The World What Happened to the Nuclear Test Sites? Conspiracy Theories with Shane Dawson Breakthrough WATER Research the Deep State is Covering Up - Masaru Emoto [Part 3/3] Apollo 17: The Untold Story of the Last Men on the Moon (Space Documentary) - Real Stories Disruptors: Smart power - BBC News From Atheist to Christian at Yale - Dr. Paul Lim Latest Qanon Posts 10-09-18 : Social Media Exploiting Your Data To Help D\\'s The Official Unmasking Jack The Ripper Documentary The secret inside your cellphone (CBC Marketplace) The Search for Planet Nine | Masao Sako | TEDxPenn What will NASA\\'s InSight do on Mars? Who Says Science has Nothing to Say About Morality? The story of \\'Oumuamua, the first visitor from another star system | Karen J. Meech Secrets Of The Secret Service Falcon 9 launches SAOCOM 1A & Falcon 9 first stage landing at Vandenberg 5 Strange Creatures Found Frozen in Ice What Engineers Found When They Tore Apart Tesla\\'s Model 3 United States Secrets | Award Winning Frontline Documentary | Snowden Leaks | The Program | 1 of 2 NASA’s InSight Mars landing: what it really took If This Doesn\\'t Make You a Believer, I Doubt Anything Will Biggest Design Errors Engineers & Architects Made JFKjr is alive3 This is going to be taken down for sure REAL REASON For Total Shutdown Of Youtube? The Deepest Hole Ever Made Was Covered Up And Abandoned Forever For One Startling Reason Alan Watts - Nature of God History Summarized: Africa 10 Reasons We May Be Entering a Dark Age of Technology Why does the universe exist? | Jim Holt Alan Watts - How To Wake Up 10 Differences Between Brits and Americans The Electromagnet in Your Toaster Jim Carrey -  Best Speech EVER [INSPIRATIONAL] Archaic Admixture in Sub-Saharan Africans - ROBERT SEPEHR The Best and Worst Airlines in the USA The kg is dead, long live the kg Response to Globebusters - The Earth Still Isn\\'t Flat Alan Watts - Outwitting the Devil The incredible inventions of intuitive AI | Maurice Conti Lumberjack Lives (Man Vs. Nature Documentary) - Real Stories 13 Worst Tourist Traps in Las Vegas The High Pressure Sodium Light: Ubiquitous, effective, but good? Heaven Sent: Skydiver Luke Aikins jumps 25000 feet without parachute The Impossible Landing - United Airlines Flight 232 - P3D - Unlisted The Ubiquitous Sound That You May Have Never Noticed Flat Earth rising: meet the people casting aside 2,500 years of science Why renewables can’t save the planet | Michael Shellenberger | TEDxDanubia Uncovering the impossible: 6 of the Heaviest Ancient Stones Ever Made Mantak Chia: Techniques to Activate The Second Brain Puzzle of EVIL coming together. You have to WATCH this! Elsa Del Mar & Jason Rivas - Sax Game (Radio Edit) The Battle of the Coral Sea 1942: The First Aircraft Carrier Battle in History This Just Happened In Russia, And The \"5G Event\" Might Have Something To Do With It.... Scientists simulate jet colliding with World Trade Center Flat Earth vs. Round Earth | Explorer Building a Viking House with Hand Tools: A Bushcraft Project (PART 1) Just How “African” are Latin Americans? NWO Predictions Post Mid Term Elections OTK PALA - Did the Student Become the Master? | Constructed | Hearthstone LA Marzulli December 02 2018 - End Times Prophecy—Signs of the Last Days [MUST WATCH] We Turbo\\'d the Auction Corvette in ONE DAY! (RIP Truck Engine) You WON\\'T BELIEVE What This Man Has To Say... The Murders Of Johnny Depp Pope Benedict XVI Speaks: I am no longer directly responsible ΙnterrΟgΑtiΟn tapes now show...Nick was a VΙctΙm of DΙrΕcted Energy WeΑpΟn! Banned College Lecture America Zionist False Education Exposed , Free Our Planet From Evil WHY DO THE ELITES LIVE SO LONG? Man; ‘I Have Seen The Ice Wall!’ Anonymous Witness - Flat Earth Wild Police Chase - South Los Angeles, CA - April 30, 2013 Sex & Circumcision: An American Love Story by Eric Clopper 10 Biggest Secrets NASA Doesn\\'t Want You To Know Qanon Weekly update- [D5] No Deals!!! World According to Juan: Slaves No More - Juan O Savin calls Abel Danger’s Field McConnell Flat Earth \"Leader\" Gets His Best 5 Points Ruined!! David Wilcock Update 03/31/2019 — THE R3AS0N WHY U.S. G0V3RNM3NT $CAR3D AB0UT TH|S TH|NG Nunes to Submit Proposal For New \"Transparency Type of Office\"- Great Idea! The Mysterious Lineage of ELON MUSK! Who\\'s Behind Free Energy Disclosure? David Wilcock Exclusive Interview On EOW [Part 3/3] David Icke - Culling The Population Next Phase Of Operation Put Into Motion, Behold The Power Of The Plan - Episode 1713b Ultra High Grade Gold Vein In A Heavily Mineralized Outcrop! Flat Earth Canada conference opening speech Mark Sargent - DITRH mirror ✅ MUST WATCH !!! BIGGEST GOLD CLEANUP YET!!!! Apollo 11 Saturn V Launch Camera E-8 What Did Voyager 1 See During its Journey Out Of The Solar System? 1977-2019 (4k UHD) Lord Rothschild: The Billionaire Collector | The Wonderful World of Gordon Watson |  BBC Documentary [12.5] Solar Storms / Legal Mushrooms / Anti-Vax Italy / UFO Sightings / Air Force Lasers Everything you need to know about the plan... Nobel Laureate in Physics; \"Global Warming is Pseudoscience\" The LEGO® Story Nuclear Energy is NOT What You Think WHOLE SYSTEM IS A LIE, Elon Musk confirms Alex Jones theories, Centralized Banks, Tin Foil Hat The Seven Wonders Of The World - BBC Documentary Q anon 11/02/18 Vote for America Building a Prosthetic Arm With Lego 5 Things Bob Lazar Should Never Have Known... But DID.. SerialBrain2 - Q Riddle Solved. It\\'s going to be historic! Where did the Moon come from? A new theory | Sarah T. Stewart Electric Cars Aren\\'t As Green As You Think 20 Most Dangerous Kids Toys Ever Sold What If You Detonated a Nuclear Bomb In The Marianas Trench? (Science not Fantasy) “If I Was God” | The Screening Room | The New Yorker 22405 Years Before Bottled Water Theory of relativity explained in 7 mins Kids Say the Darndest Things 22 | Kids Say Best Centipede Showdowns | MONSTER BUG WARS Defunctland: The History of the Nickelodeon Hotel THE RAREST HOT WHEELS In The World Kids Try 100 Years of Brown Bag Lunches from 1900 to 2000 Why all world maps are wrong The golf ball that made golfers too good Meet the dazzling flying machines of the future | Raffaello D\\'Andrea FloWave Exhibition Video 2014 My Fire Ants Are Planning an Escape Dig Into These Six Prehistoric Stories Billy Graham\\'s Greatest Sermon - \"Who is Jesus?\" Moon in Google Earth - Apollo 11 Landing Jerusalem: Three religions, three families | Faith Matters Challenger: A Rush To Launch 4th Generation Nuclear Weapons Napoleon\\'s Rise to Power The Burning of Notre Dame Channeled | Revealing the Astrology of France 10 Myths About Jesus NARCISSIST, SOCIOPATH, OR PSYCHOPATH?: HOW TO RECOGNIZE THE DISTINCTIONS Gospel of Judas: What Does It Really Say? UFO Hunters: UFO Vortexes (Season 1, Episode 8) | Full Episode | History A Real Warning For Humanity.. You Might Wanna Watch This Video Right Away! (2019-2020) FLAT EARTH PROOF ! NASA CAUGHT LYING 2017 Strange \"STATIC\" lights FILL night sky - Possibly part of something LARGER! Its happened THREE nights in a row - Strange weather pattern COULD produce  multiple PDS! No Limits: Thalidomide Babies (Phocomelia) | History Documentary | Reel Truth History Kevin Annett - Vatican Breaking Down (Stop 007) SASQUATCH.....My Grandfathers Story. Habituation - Denied and Confirmed 2000 Year Old Anti-Gravity Jar Found in India? SECRET REVEALED \"Ocean UNDER the Ocean\" at FULL capacity - Water has nowhere to go but UP! Video Proof We Are Living In The Last Days The Storm is Here - Deep State Exposed - Documentary 2018 Latest Qanon Posts 12-6-18 : People awake are what they FEAR THE MOST. David Paulides 2017 - Missing 411 November 23, 2017 | Podcast New The Role of the Illuminati\\'s Occult Philosophy in 9/11 - Fritz Springmeier - PDX 9/11 Truth Is SOMETHING altering coastal ecosystems? - Strange Coastal Phenomenon Geoengineering Watch Global Alert News, October 13, 2018, #166 ( Dane Wigington ) Why is RUSSIA Reporting FALLEN ANGELS in ANTARCTICA? Hollywood Secret Transgenders Hidden In Plain Sight Untold Truth About Why History Was Told To You In Reverse 🇮🇳 🇵🇰 India, Pakistan & Partition: Borders of Blood Part 1 l 101 East Special Report: Texas Departure Ceremony For George H.W. Bush | NBC News Geologists on Notice Mudfossils are here The Truth About Space Debris Space Stations: Past, Present, And Future | Answers With Joe The History of Earth (HD - 720P) Israeli Private Intelligence Companies Turn Civilians into Enemies WWI 🔴 President Trump SOLEMN Speech and Prayer at Suresnes American Cemetery Ceremony in France 💥 The Real Reasons Trump is Leaving Syria Bitter End: What led to ABC’s corporate meltdown? | Four Corners PUTIN JUST EXPOSED THE PLOT TO DESTROY AMERICA Tom Fitton Delivers Opening Remarks on the Clinton Foundation & Uranium One Scandals Pittsburgh Synagogue Shooting: Gov. Tom Wolf, Wendell Hissrich Address Shooting Confronting Hate Propaganda and Holocaust Denial Filipino Reporter Maria Ressa on Duterte’s Targeting of the Press & How Facebook Aids Authoritarians Important info for all air travellers/jet fuel hoax What Were the Real Reasons Why We Stopped Going to the Moon? IN SEARCH OF THE MISSING LINK - NOVA - Discovery Science History (documentary) Earth\\'s Moon: Why One Side Always Faces Us Alien Abductee Tells All: Inside UFO, Secret Bases On Earth, and more! Sara Carter Responds to Mueller\\'s New Russia Indictments Putin\\'s Secret Riches The Power of Putin - Documentary 2018, BBC Documentary Putin is the big winner from Mueller report: John Solomon \\'Jeopardy!\\' host Alex Trebek opens up about cancer battle l GMA Trump and Putin discuss \"Russian Hoax\" in their first conversation since the Mueller Report How to Seek the Holy Spirit – John Piper Face to Face with a Shapeshifting Witch Doctor | David Hogan Arkansas residents \"anxious\" as swollen river strains levees Response to Globebusters - The Earth Still Isn\\'t Flat The Difference between Catholics and Protestant Christians Did scientists get it wrong about global warming? The Viral Threat: Measles and Misinformation | Fault Lines Shocking Vaccine Study: Infants Who Received Vaccines Containing Mercury Impact On Autism What Is The Link Between The MMR Vaccine And Autism? by Mark Blaxill Retail Employees\\' INSANE Black Friday Stories (Reddit r/AskReddit) Abandoned 1886 Colt Lightning - Incredible Restoration of American Legend Should Christians Listen to Joel Osteen? You will never look at life the same - You\\'ve Been Lied To! WARNING: This is not for everyone!!! Sudan’s Secret Hit Squads Used to Attack Protests - BBC Africa Eye documentary Brake Checks vs Semi Truck Driver. Brave or Crazy Man? The case for re-writing history! New evidence, an introduction to UnchartedX Hunting for dinosaurs showed me our place in the universe | Kenneth Lacovara Suppressed Human History Movie! Extraordinary Theory. Slow Version George Webb - Spies, Lies - Deplorables Be Ready! George Webb - PROMIS, Palantir, And Many Deaths Who’s Behind the Migrant Caravan Trump: \"A lot of people Say\" Soros Is Funding Caravan Report: Soros-funded groups are behind migrant caravans Notre Dame Cathedral Fire: A) Jewish Lightening B) Muslim Terror C) Yellow Vest Revenge D) Accident Bible Prophecy is Happening Worldwide! (2018-2019) Top 5 BIGGEST Trees on Earth The Moon Landing: 50 Years On - BBC Click Duke professor writes about Lost Tribe of Israel Apollo\\'s New Moon - 4k What is Q ANON & The Great Awakening? BREAKING: Mercury Level in Flu Vaccine 25,000 times higher than EPA limits U.S. BIOWEAPON \\'LEAKS\\' KILLS 20 HOSPITALIZES 200 FLU - Biological Warfare ATTACK! FLOODS are PLANNED  Climate \\'CON\\'TROL and Weather Weapon Disasters #CDCWhistleblower New Details Emerge TOP NEWS! Mystery Surrounds Latest ‘Suicide’ Added To Clinton Body Count List Nipsey Hussle Shot and Killed - Find out why! Dr Sebi Conspiracy ERIC HOLDER Surrenders + Everything you need to know about DR SEBI and NIPSEY HUSSLE! Why The Illuminati Killed Nipsey Hussle - Dr Sebi Conspiracy explained OMG: PIZZAGATE JUST GOT EVEN DARKER THAN \\'\\'EYES WIDE SHUT\\' The Alleged Hillary Sex Tape Is Worse Than You Can Imagine DEE-I DEE-I DEE-I: THE KEY TO ILLUMINATI MIND CONTROL... Q ANON! PELOSI ASSASINATION PLOT? CRYING CHUCK & HEIDI FLEISS!! HRC VID REACTION!!! KURU!!!! Q MEGA-MEME DROP: HAVE YOU EVER HEARD OF ASTANA? YOU\\'RE ABOUT TO WITNESS WHAT WAS AN IMPOSSIBILITY JUST ONE YEAR AGO WikiLeaks: Secret Base On The Moon?! Apocalyptic Sounds Heard Around The US! How and Why I Believe JFK Was Killed (And RFK Too) Cure for HIV & Cancer Dr SEBI Reveals His Cure for AIDS and Other Diseases FAUX NEWS ABOUT FLU VACCINE  SEE:  DR MIKOWITS What Are Your Crazy Tinder Stories? (Reddit Stories r/AskReddit) Bill O\\'Reilly EXPOSES Who Is Really Funding the Migrant Caravan Sara Carter shares her firsthand experience of caravan Past Epstein ties may expose worst royal family scandal yet Soros\\'s Formula for Killing America: A Brief Guide, for Americans Bringing Down Jeffrey Epstein (2018 Documentary) What Pisses Me Off About the Jeffrey Epstein Case! Episode 1: Forbidden History // Proofs of a Conspiracy Keep 9/11 REALITY Theory Alive! Deceitful Images Sell the Global Warming HOAX Episode 11: Forbidden History // Darwin’s Hoax of \"Evolution\" Ted Gunderson - The Great Conspiracy John MacArthur: Why Does God Allow So Much Suffering and Evil? Ruling Class Pedophiles Have Epstein Murdered In Jail — The Political Vigilante Jeffrey Epstein: FBI launches investigation into death amid growing conspiracy theories Secrets Of The Shroud (Conspiracy Documentary) | Timeline Epstein’s plan to impregnate 20 girls (full show) WHY I SAID GLOBAL WARMING IS THE BIGGEST FRAUD IN HISTORY - Dan Pena | London Real Why the VATICAN really Owns the LUCIFER Telescope. Eddie Bravo Explains the \"Space is Fake\" Conspiracy | Joe Rogan Retired HEAD OF  FBI Tells ALL \"Illuminati, Satanism, Pedophile Rings\" War with the World. ECONOMIST COVER Barbara Honegger: 9/11 truth on what Happened at the Pentagon Noam Chomsky - Conspiracy Theories What if the Titanic was switched? Deus Ex The Royals: Royal Family Secrets Revealed [Full Documentary] Conspiracy? Our Subverted History, Part 1 - Setting the Stage Vaccines: The Ultimate Taboo Postlude to the Adam and Eve story - Chan Thomas - Declassified? - The Facts & Truths - PART 1 of 3 9/11 Predicted on The Lone Gunmen 9/11 Experiments: The Great Thermate Debate Illuminati Denver Airport Art Murals How To Cure Cancer with Vitamin B-17 (DOCUMENTARY) Moon Landing Hoax - Wires Footage NEW Documentary Zionism EXPOSED! The Lobby - USA Full 2018 The Electronic Intifada Taylor Swift is a Rich Man What\\'s Victoria\\'s Secret? Limp Bizkit - Break Stuff Discovery: how media lies documentary film - CNN CBS FOX NEWS channel distorted contents Noam Chomsky on Capitalism Noam Chomsky - The Global Economy Mars Germans and the Secret Space Program - ROBERT SEPEHR Time Manipulation and Space-Time Theories - ROBERT SEPEHR Vril and Occult Free Energy - ROBERT SEPEHR BBC The Great Offices of State: 3. The Secret Treasury There is no such thing as transgender - John F  MacArthur Documentary: Who is Jeffrey Epstein, accused of sexually abusing teen girls? FACE THE TRUTH! Stop Running Away From It - Jordan Peterson Disgraced financier Jeffrey Epstein found dead in cell awaiting trial Truth Or Dare Gone Wrong! (Reddit Stories r/AskReddit) Eddie Izzard - “Wunderbar” and Moving from Comedy to Politics | The Daily Show Garlic Festival Gunman Was Unknown to Law Enforcement, Sources Tell NBC Bay Area Janice Atkinson: What\\'s REALLY in the UN Migrant Compact | Jack Buckby HIS Star  |Dr. Jason Lisle| (Filmed Live) Travel Warning - Avoid Europe! (Stop 007) WE HAVE REPTILIAN ENTITIES WHO RUN THIS WORLD - David Icke 2019 Prophetic Outlook LIVE! | Hank Kunneman, Cindy Jacobs & Larry Sparks Mud Flood Evidence,  The Buildings How To Stop This Technology That We Can’t Talk About On YouTube Epstein and the World Wide Pedophile Club We Call Government ALL so called impact sites are sink holes Anand Giridharadas: College Bribery Scandal Highlights How America is Rigged for Wealthy & Powerful Climate Change Cremation Consequences: Paradise Lost Climate Scientist Who Fled CA Wildfire: We’re Going to Keep Paying Price If We Ignore Climate Change Watch What CNN Weather Man Hides in Plain Sight!! Eyewitness barely makes it out alive in California fire storm Who Started the Flat Earth Conspiracy Theory, How Many Believe This, and What Do They Believe? Air Force warns against Area 51 raid 360° Travel inside the Great Pyramid of Giza - BBC CrossTalk Bullhorns: Utter failures Should We Engage w/ Crazy Black Repubs? Roland Rips Candace Owens, Others Who Don\\'t Care About Us Iran is ready for US aggression - fmr UN weapons inspector Climate change | Julia clashes with The Green Party co-leader Jonathan Bartley Global climate strikes kick off ahead of UN summit on climate change Tob Cohen\\'s Murder: Sarah Wairimu\\'s lawyer pokes holes into case Global climate strike: Millions take to the streets to save the world How the climate strike travelled around the world National Geographic Great Fire of London The Untold Story Flat Earth Theory - How Was It Debunked 2,000 Years Ago? The Watchers: The Angels Who Betrayed God [Book of Enoch] (Angels & Demons Explained) It’s Later Than You Think – Pastor Billy Crone New research into third Fatima secret California Dive boat Fire: Former Crewman and Captain speaks \\'Never mind the heat, climate change is hoax by gravy-train scientists\\' Ground Zero responders remember 9/11 Daniel Sunjata: 9/11 was an inside job (part 1) 09 11 2001 Live Unedited Cnn News Coverage From 8 50Am To 11 30Am \"We in the Media Have Not Been Doing Our Job\": 250+ News Outlets Pledge to Focus on Climate Crisis Ex-Jehovah’s Witness Elder explaining why my family and I left the Watchtower Organization Ancient Africans in the Bible Amazon rainforest on fire: ‘Lungs of the world’ in flames l Nightline Dorian Leaves Parts Of The Bahamas Uninhabitable NEVER FORGET: President Trump VERY MOVING Speech TENAJA FIRE: Crews are battling a growing brush fire in Riverside County, CA 50 Photos That Prove You Have a Dirty Mind! (2016) 19 Most Famous Shipwrecks What Are the Van Allen Belts? And How Can We Get Past Them? 10 Parents YOU Won\\'t Believe Actually Exist! THE POWER OF PRAYING IN THE SPIRIT - BIBLE PREACHING | PASTOR SEAN PINDER The campaign to silence Max Blumenthal SECRETS BEHIND THE MOST POPULAR MAGIC TRICKS Joe Rogan - Derren Brown on HYPNOSIS | \"It\\'s just suggestion\" 5 Most Insane Vehicles in the World The Truth About the Titanic: A Cold War Mission Kept Secret Until 2018 5 Things Logan Paul Owns Only The Richest Can Afford Secret iPhone Tricks (iPHONE HACKS) Yes, Apollo Flew Through the Van Allen Belts Going to the Moon The Mystery Of The Pyramids: Egypt Detectives (Ancient Egypt Documentary) | Timeline Top 10 Best Super Bowl Commercials (2017 Funniest Super Bowl Ads) 2019 Prophecies About Trump, The Wall & America! TOP 5 MOST EXPENSIVE THINGS ON EARTH 5 YouTuber Videos That Went HORRIBLY WRONG (Logan Paul, Jake Paul, Roman Atwood) ONLY A GENIUS CAN SOLVE THIS IN 10s! (98% fail test) Big Bad Vlad! The Demonisation of Russia Pennsylvania teacher\\'s 1992 death grows cold: 20/20 Oct. 5, Part 2 How to Destroy the Climate Change Hoax Monster Tower | World Record Building Demolition | BlowDown | S02 E03 | Free Documentary Legion Season 2 Featurette | \\'The Nature of Reality\\' | Rotten Tomatoes TV DC\\'s Legends of Tomorrow Season 4 Comic-Con Trailer | Rotten Tomatoes TV 5 DISTURBING Nostradamus Predictions That Came True! (+2016 Predictions) World\\'s Best Pizza Compilation! 🔴 Peter Schiff Talks Gold & Potential Sovereign Debt Crisis | Real Vision Classics Why Did United States Enjoy Dramatic Improvements in Living During the Last Century? 🔴 Bitcoin Live : Sunday Stream, Weekly Candle Closing. Episode 646 - Crypto Technical Analysis Yahoo Finance LIVE market coverage: Thursday, August 29, 2019 Whoopi lambasts Debra Messing\\'s call to shame Trump donors PETER SCHIFF - Banks Are Not Prepared For What Is Coming 3D Wall Panels Wall Design for HOME! Jim Yosef - Eclipse [Pure Music Mix] Lodge 49 Season 1 Trailer | \\'Dud\\'s Life\\' | Rotten Tomatoes TV What This Year\\'s Bitter Midterm Election Says About Our Culture Winter storm wallops eastern U.S. Many Get Healed When They Do This One Simple Thing! | Art Mathias HELECOPTER AMBUSH - Boring Man OTSC Goldie Hawn: Finding Happiness Republican congressman Peter King says he is retiring SENATOR SLAMS PELOSI: Says \"It must suck to be that dumb\" during Trump rally Trump\\'s talking like a tin-pot dictator, CNN\\'s Don Lemon says Recapping a whirlwind of a week in Washington Bercow BLOCKS Boris\\' Brexit deal vote | Parliament LIVE Why Trump is wrong to say impeachment is a \\'lynching\\' | Don Lemon Nipsey Hussle - Grinding All My Life / Stucc In The Grind (Official Video) XRP Dumps Back To $0.25; What\\'s Next? Shepard Smith says goodbye to Fox News Emma Pretend Play at the Princess Pageant Fun Adventure White House: Trump will not cooperate with impeachment probe 39 people found dead in lorry trailer in UK BrexBox Episode 12: Why Boris\\' \"new\" EU treaty is so DANGEROUS! First People In New Zealand // Maori History Documentary California Fires (including Easy Fire) - LIVE COVERAGE Watch live: Trump\\'s nominee for Russia ambassador grilled in confirmation hearing California is in a statewide emergency as 2 new fires ignite near San Francisco l ABC News News Now Stream Part 1 - 11/1/19 (FNN) #XRP  So It Begins Phase 1 moneyGram 13772 BG123  Lagarde’s Task Is to Lead a Cultural Revolution What You Need to Know About the Future with Legendary Futurist Ray Kurzweil | Impact Theory UNBELIEVABLE WHAT IS GOING ON IN CHINA ! End Times News & Strange Signs Creation Seminar 7 - Questions and Answers (Part 2 of 2) how mass effect missions are assigned Crazy Stuff the Quran Says #3 - A Skeptical Analysis Ford Ranger Walkaround 2011 Top Truck Challenge - Obstacle Course Run 3 Bitcoin Cash Hard Fork Nov 2018 - What You Need To Know Taught to Believe It Doesnt Exist, Here\\'s Your Proof! Nikola Tesla - Limitless Energy & the Pyramids of Egypt George W Bush full eulogy at George HW Bush funeral [FULL VIDEO] Former Dallas Fed president: A big rate cut would \\'scare the hell out of\\' markets Inside the Bird Box PHYSICIST REPORT 416: THE SUN HAS STOPPED SHINING BECAUSE IT IS UNCLOTHED 1266: Deception and betrayal on a planetary scale 1272:  The earth is going dark 10 Greatest Illuminati Conspiracies - UNCOVERED Shuttle Commander Spots Mysterious Objects | NASA\\'s Unexplained Files 10 Crazy Space conspiracy theories Top 10 Government Conspiracy Theories Inside The Vatican\\'s Gay Bathhouse The Worst Family Feud Guests Ever!! || STEVE HARVEY Firefighter Who Heard Diana\\'s Last Words, BREAKS HIS SILENCE And SAID THIS..... Key & Peele - Damn, Check That S**t Out Joe Rogan Experience #993 - Ben Shapiro Triple H and Shawn Michaels don\\'t see eye-to-eye: Raw, Oct. 21, 2013 FBI vs CIA - How Do They Compare? Joe Rogan Meets a Crazy Stripper - This Is Not Happening - Uncensored Ali Siddiq - Prison Riot - This Is Not Happening - Uncensored Mike Epps Talks Kevin Hart, Bill Cosby, Hollywood Gatekeepers + More Most Terrifying Tractors Pulling Fails Q108: What If A Shot Caller Puts A Green Light On You In Folsom Prison California? Joe Rogan Experience #1276 - Ben Shapiro Key & Peele - Shining Anonymous - The Story of Aaron Swartz Full Documentary Donald Trump\\'s FULL roasts of Hillary Clinton at Al Smith charity dinner Every MAGICIAN Audition on American\\'s Got Talent 2017 | Magician\\'s Got Talent Joe Rogan Experience #1140 - Joey Diaz 2019 RETAILERS CLOSING - CREDIT CARD DEBT - FINANCIAL COLLAPSE - FARMERS DEVASTATED - US DEBT Inside the gold vault at the New York Federal Reserve Federal Reserve Balance Sheet URGENT MILITARY/BORDER PATROL JOINT PRESS CONFERENCE ON \"OPERATION SECURE LINE\" Was The End Of The Petro Dollar Just Announced By The President? - Episode 1682a An Interview with Dr. Dave Janda 8 Craziest Declassified Military Projects Gutfeld: Can Joe Biden go the distance? The Next Revolution with Steve Hilton 6/16/19 | Breaking Fox News  June 16, 2019 Crypto Chico Rips Ripple and XRP a New One! British Secret intelligence of WW2 (Full Documentary) Proof That Storage Wars Is Totally Fake Money as Debt - Full Documentary Seattle is Dying Julian Assange has information that could \\'destroy Russian hoax\\': Jerome Corsi Michael Cremo: \"Forbidden Archaeology\" | Talks at Google Former US attorney: FBI officials will likely face charges Garden of Eden: What Do We Know About Adam and Eve? Enter the secret world of the Freemasons Tom Fitton: Comey, Clapper, Brennan have criminal liability POLITICAL BIAS? FBI Update On Hillary Clinton Email Investigation Roger Stone Weighs in on the Epstein Case Newsmaker Sunday: International UFO Congress The NRA warns biased journalists \\'time is running out\\' Mueller found no collusion between Trump and Russia: AG Barr Remote Viewing and the Reality of Psychic Phenomena | Waking Cosmos | Garret Moddel Ph.D. Missing 411 | Canada Cases | David Paulides Are Iran and the US heading for war? UPDATE ABOUT IRAN \"Death to U.S.\" Anger in Tehran following targeted killing of top Iranian commander Fantasyland: The History of America\\'s Irrationality | Kurt Andersen BITCOIN CRITICAL TIPPING POINT!?! What to REALISTICALLY Expect in 2020: Cryptocurrency Act BREAKING: Crypto YouTube BACK!!! BITCOIN BREAKOUT?! ETH to $10k!? 2020 Forecast 🚀 Henry Cavill. Family (his parents, brothers, girlfriends, dog) UHOH! Youtube\\'s New CRACKDOWN, iDubbbz Content Cop REMOVED, Viral Slapper Exposed, Anthony Padilla & The DISTURBING Onision Problem, YouTube Rewind 2019 Reaction, PewDiePie, BTS, & French Protests Manifest Miracles, Pain Relief Music for Sleep, Solfeggio 174 Hz Full Body Healing ► Heroes of the Storm: Vikings vs. Washed France - HeroesHype Premier Series Jordan Peterson on Betrayal and Trust Loss Strong police presence in Paris as protesters gather in the capital Stalin: part 1 of 3 Alzheimer’s Is Not Normal Aging — And We Can Cure It | Samuel Cohen | TED Talks Ever Thought WHY Celebrities HATE Looking At The Mirror So Much? (2019 - 2020) What to do What to do? THE KNOWLEDGE OF THE FOREVER TIME (Episode #5) THE STARGATE FOUND! THE KNOWLEDGE OF THE FOREVER TIME:#7 THE GOD KNOWLEDGE THE KNOWLEDGE OF THE FOREVER TIME (Episode 1) THE LAST WORDS OF DAMON T. BERY 2019 You Won\\'t Believe This ! Plane Stops Mid-Air, UFO Sightings, And More Strange Things... Hancock and Carlson talk Younger-Dryas Catastrophe at Earth-Keeper \\'18 conference Nancy Tremain - Re-Introduction To The Reptilians The Origin of the Antichrist Evidence That Ancient NUCLEAR WAR Occurred 4,000 YEARS Ago The Mysterious ANCIENT GIANTS Who RULED America The Most DEADLY Cursed Diamond in The World How To REVERSE CAVITIES for Free?! The Holistic Way CREEPY & EVIL LAUGHTERS Coming From Amazon\\'s ALEXA?! Device Malfunction or POSSESSED Scientists Find FIRST \\'Evidence\\' That Our Universe IS a Hologram 7 REAL LIFE Gates to HELL You Can ACTUALLY Travel to What You Need To Know About The AKASHIC RECORDS And The MASTERMIND Of Mankind Darkest Disney Park Secrets Revealed! IS JARED KUSHNER \"THE ANTICHRIST\"? Chilling Facts & Bizarre Details Have Surfaced! The REAL Alien Agenda - RETURN of the Nephilim (NEW interview 2019) 11:11 Quake is Retribution to Deep State for Paradise Fires | Interview with Dr. Michael Salla \"Follow The Money\" - Q Anon VS The Rothschilds... Did you catch it? THEIR PLAN HAS ALWAYS BEEN... PURE EVIL -- Wayne Jett F. WILLIAM ENGDAHL ~ \"Gods Of Money & Climate Change Hoax\" [Age Of Truth TV] [HD] David Wilcock Stunning New Movie: \"Above Majestic\" -- Trailer LIBERTY HAS FALLEN Studying African Biblical History and looking for truth Hollywood CAUGHT Casting REAL SPELLS (2018) MYSTERIES of Age to Come - ANTARCTICA, Firmament, Nibiru, Genetic Engineering Moses and Jesus JFK Jr Living  [Lost at Sea] Something VERY WRONG Just Happened on Earth! Did Hawaii Geothermal Plant Conduct Scalar Weapons Experiments that led to Eruption? 10 Bizarre Celebrity Conspiracies Prophet Charlie Shamp - Prophesies Amazing Specifics about Midterm Election! - Part 1 HOW DO I GET ON THE DO NOT DETAIN LIST? Globalists Use Migrants as NWO Pawns What REALLY Happened to Ethiopian Airlines Flight?🤔 MYSTERY Behind Heath Ledger \"THE JOKER\" - An Open SECRET! (2018 - 2019) Use These Spiritual Keys for Financial Prosperity! | Joan Hunter UnSpun 135 – Noah Church: \"Wack: Addicted to Internet Porn\" Las Vegas Shooting Investigation YouTube Demonetisation: Are some channels promoted while others get deliberately \\'buried\\'?? The Germans have some cool Building Products! - The Bau Show in Munich  Day 1 The mind-boggling Bicone Puzzle?? Defensive Coffee? Gary Explains Weapons of Opportunity My NDE Story Jesus Christ (GOD) is the TRUTH!!! (Edward) FINANCIAL HELL: Fake Economy & Fake Assets! Robert Kiyosaki Says Its Time To Wake Up! You Will Wish You Watched This! THE TWISTED TRUTH.. The Secret of the Ingenious Spade Case Trick Box!! Tartary Iridium Dwarves Magic Underground Hobbit Caves Tunnels Mushroom DNA Apocalypse & Corn Robert Pepiton for Arizona State Representative, LD27 We Have Destroyed Copyright Law \"YOU HAVE ZERO AUTHORITY!!\", SONKO LOOSES COOL AND GOES SAVAGE ON SENATORS GRILLING HIM Jesse Lee Peterson Shout-Out To Indiegogo Backer: Thank You, Maria! Social Justice and Far Left Ideology Is Corrupting Science The MOST IMPORTANT Video You Will Watch - UN Migration Deal The REAL Luciferian Agenda Exposed (R$E) What (might have) Made America Great Congressman Massie on Facial Recognition Technology 90% OF HOUSES ON THIS BEACH WIPED OUT!!! 2013 Moore Monster Tornado by Michael Lynn RAW ALL TCBI How Phil & Jase Got Duck Commander into Walmart & the Story of Joseph | Ep 19 Can a Store Force You to Show a Receipt Before You Leave? - Lehto\\'s Law Ep. 5.65 The Sermon on the Mount from the Gospel According to Matthew (KJV) Æthelflæd, Ingimundr & the Battle of Chester (907) Will Trump Declare A National Emergency To Build The Wall? SHOCKING VIDEO: Officers Violently Drag Passenger Off Overbooked United Flight The Turks Enter Anatolia (1016-1071) Disney - Bigger Than You Know What Should You Call The Czech Republic? Kanye \\'Get Out\\' West | Behind The Meltdown \"What\\'s that?\" Jordan Peterson \"It\\'s the invention of work.\" Do You Believe in a Secular America? - Richard Dawkins Foundation contest winner Senator Rand Paul Continues Fighting for Transparency - April 4, 2019 Atheist Debates - Arguing for vs against propositions HOW I EDIT MY PHOTOS Bill O\\'Reilly Weighs in on Kavanaugh, Ford Testimonies Another Lying, Right Violating, Taxed Paid Pig!!! Leilani Residence Returns Home Lava Disaster Recovery Government Is The Biggest Threat To Humanity with Mike Maloney How did Bre Payton Die? The World Is Being Run By Children Best and funniest goat videos - Funny and cute animal compilation XRP, Dow Plunges And November Caesar in Britain (55 B.C.E.) Sandra Bullock on How She Handled Losing Her Dad and Dogs Within Weeks On The Front with Kamran Shahid | 1 May 2019 | Dunya News Defense Department official briefs media on China military, security developments 73 Questions With Kim Kardashian West (ft. Kanye West) | Vogue Former Nigerian President OBJ detained by Canadian Immigration - Coverage by Golden Icons How Tinubu Escape Through Back Of Door Comot  ‘Embarrasing’ Ogun APC Rally On The Front with Kamran Shahid | 6 December 2018 | Dunya News Orya Maqbool Jan Analysis on Imran Khan U-Turn Statement | Live With Nasrullah Malik News Headlines | 12:00 AM | 15 Oct 2018 | 92NewsHD Inside Politics: Sakaja speaks out on the Huduma Namba pressure Flight 990: What really happened? | Al Jazeera World Doctors Share DUMBEST \"r/IAMVERYSMART\" Patients Dean Cain Blasts Hollywood \\'Bullies\\' for Threatening Boycott of GA Over \\'Heartbeat\\' Bill Mark Levin Worships Wealth, Spits on Commie Cortez Yesterworld: 7 Abandoned Disneyland Christmas Attractions, Overlays & Events (Disney Christmas) Bertcast # 313 - Rocky Dale Davis & ME 10 Female YouTubers Who Can CHANGE YOUR LIFE (Simply Nailogical, Carli Bybel, Liza Koshy) 20 Celebs Who DISSED Nicki Minaj 10 Really WEIRD Harry Potter Fan Theories That Will Ruin Your Childhood 18 Unbelievable Things Sold On Ebay Top 10 of the Stupidest Things Donald Trump has Said — TopTenzNet AMAZING Innovative Camping Tents GiveUpAndSettle.com Gravitational Waves Explained Using Stick Figures History is on Donald Trump’s side Despicable Me -  Bonus: \"Minion Voices\" - Illumination Andi\\'s Choice | Mack Chat: S2, Episode 20 | Disney Channel Amazing Creative Construction Workers - You Need To See #10 Top 10 Magical Facts You Didn’t Know About Harry Potter — TopTenzNet The funniest LOL MOMENTS ever - TRY NOT TO LAUGH Chair Pulling Pranks (Gone Wrong) - 2018 !! Firefighters Laugh At Inappropriate Moments (Emergency Services Stories r/AskReddit) Joshua Kutuny: Aaron Cheruiyot is not aware of what\\'s happening in Mau | JKLIVE The Wandering Trader Update is BAD... so we changed it (Minecraft 1.14) Hurricane Dorian Scenarios: Breaking Down Storm\\'s Path, Storm Surge, Euro Model | NBC 6']\n"
     ]
    }
   ],
   "source": [
    "\n",
    "\n",
    "\n",
    "\n"
   ]
  },
  {
   "cell_type": "code",
   "execution_count": 17,
   "metadata": {},
   "outputs": [],
   "source": [
    "\n",
    "X=concat_sample\n",
    "\n",
    "\n",
    "# The 'label' column contains the target labels\n",
    "y = new_dataframe['label']"
   ]
  },
  {
   "cell_type": "code",
   "execution_count": 18,
   "metadata": {},
   "outputs": [
    {
     "ename": "ValueError",
     "evalue": "Found input variables with inconsistent numbers of samples: [1, 998]",
     "output_type": "error",
     "traceback": [
      "\u001b[0;31m---------------------------------------------------------------------------\u001b[0m",
      "\u001b[0;31mValueError\u001b[0m                                Traceback (most recent call last)",
      "\u001b[0;32m<ipython-input-18-cc4534a9641e>\u001b[0m in \u001b[0;36m<module>\u001b[0;34m\u001b[0m\n\u001b[0;32m----> 1\u001b[0;31m \u001b[0mX_train\u001b[0m\u001b[0;34m,\u001b[0m \u001b[0mX_test\u001b[0m\u001b[0;34m,\u001b[0m \u001b[0my_train\u001b[0m\u001b[0;34m,\u001b[0m \u001b[0my_test\u001b[0m \u001b[0;34m=\u001b[0m \u001b[0mtrain_test_split\u001b[0m\u001b[0;34m(\u001b[0m\u001b[0mX\u001b[0m\u001b[0;34m,\u001b[0m \u001b[0my\u001b[0m\u001b[0;34m,\u001b[0m \u001b[0mtest_size\u001b[0m\u001b[0;34m=\u001b[0m\u001b[0;36m0.2\u001b[0m\u001b[0;34m,\u001b[0m \u001b[0mrandom_state\u001b[0m\u001b[0;34m=\u001b[0m\u001b[0;36m25\u001b[0m\u001b[0;34m)\u001b[0m\u001b[0;34m\u001b[0m\u001b[0;34m\u001b[0m\u001b[0m\n\u001b[0m\u001b[1;32m      2\u001b[0m \u001b[0mtfidf_vectorizer\u001b[0m \u001b[0;34m=\u001b[0m \u001b[0mTfidfVectorizer\u001b[0m\u001b[0;34m(\u001b[0m\u001b[0mmax_features\u001b[0m\u001b[0;34m=\u001b[0m\u001b[0;36m1000\u001b[0m\u001b[0;34m,\u001b[0m \u001b[0mstop_words\u001b[0m\u001b[0;34m=\u001b[0m\u001b[0;34m'english'\u001b[0m\u001b[0;34m)\u001b[0m\u001b[0;34m\u001b[0m\u001b[0;34m\u001b[0m\u001b[0m\n\u001b[1;32m      3\u001b[0m \u001b[0;34m\u001b[0m\u001b[0m\n\u001b[1;32m      4\u001b[0m \u001b[0mX_train_tfidf\u001b[0m \u001b[0;34m=\u001b[0m \u001b[0mtfidf_vectorizer\u001b[0m\u001b[0;34m.\u001b[0m\u001b[0mfit_transform\u001b[0m\u001b[0;34m(\u001b[0m\u001b[0mX_train\u001b[0m\u001b[0;34m)\u001b[0m\u001b[0;34m\u001b[0m\u001b[0;34m\u001b[0m\u001b[0m\n\u001b[1;32m      5\u001b[0m \u001b[0mX_test_tfidf\u001b[0m \u001b[0;34m=\u001b[0m \u001b[0mtfidf_vectorizer\u001b[0m\u001b[0;34m.\u001b[0m\u001b[0mtransform\u001b[0m\u001b[0;34m(\u001b[0m\u001b[0mX_test\u001b[0m\u001b[0;34m)\u001b[0m\u001b[0;34m\u001b[0m\u001b[0;34m\u001b[0m\u001b[0m\n",
      "\u001b[0;32m~/opt/anaconda3/lib/python3.8/site-packages/sklearn/model_selection/_split.py\u001b[0m in \u001b[0;36mtrain_test_split\u001b[0;34m(test_size, train_size, random_state, shuffle, stratify, *arrays)\u001b[0m\n\u001b[1;32m   2170\u001b[0m         \u001b[0;32mraise\u001b[0m \u001b[0mValueError\u001b[0m\u001b[0;34m(\u001b[0m\u001b[0;34m\"At least one array required as input\"\u001b[0m\u001b[0;34m)\u001b[0m\u001b[0;34m\u001b[0m\u001b[0;34m\u001b[0m\u001b[0m\n\u001b[1;32m   2171\u001b[0m \u001b[0;34m\u001b[0m\u001b[0m\n\u001b[0;32m-> 2172\u001b[0;31m     \u001b[0marrays\u001b[0m \u001b[0;34m=\u001b[0m \u001b[0mindexable\u001b[0m\u001b[0;34m(\u001b[0m\u001b[0;34m*\u001b[0m\u001b[0marrays\u001b[0m\u001b[0;34m)\u001b[0m\u001b[0;34m\u001b[0m\u001b[0;34m\u001b[0m\u001b[0m\n\u001b[0m\u001b[1;32m   2173\u001b[0m \u001b[0;34m\u001b[0m\u001b[0m\n\u001b[1;32m   2174\u001b[0m     \u001b[0mn_samples\u001b[0m \u001b[0;34m=\u001b[0m \u001b[0m_num_samples\u001b[0m\u001b[0;34m(\u001b[0m\u001b[0marrays\u001b[0m\u001b[0;34m[\u001b[0m\u001b[0;36m0\u001b[0m\u001b[0;34m]\u001b[0m\u001b[0;34m)\u001b[0m\u001b[0;34m\u001b[0m\u001b[0;34m\u001b[0m\u001b[0m\n",
      "\u001b[0;32m~/opt/anaconda3/lib/python3.8/site-packages/sklearn/utils/validation.py\u001b[0m in \u001b[0;36mindexable\u001b[0;34m(*iterables)\u001b[0m\n\u001b[1;32m    297\u001b[0m     \"\"\"\n\u001b[1;32m    298\u001b[0m     \u001b[0mresult\u001b[0m \u001b[0;34m=\u001b[0m \u001b[0;34m[\u001b[0m\u001b[0m_make_indexable\u001b[0m\u001b[0;34m(\u001b[0m\u001b[0mX\u001b[0m\u001b[0;34m)\u001b[0m \u001b[0;32mfor\u001b[0m \u001b[0mX\u001b[0m \u001b[0;32min\u001b[0m \u001b[0miterables\u001b[0m\u001b[0;34m]\u001b[0m\u001b[0;34m\u001b[0m\u001b[0;34m\u001b[0m\u001b[0m\n\u001b[0;32m--> 299\u001b[0;31m     \u001b[0mcheck_consistent_length\u001b[0m\u001b[0;34m(\u001b[0m\u001b[0;34m*\u001b[0m\u001b[0mresult\u001b[0m\u001b[0;34m)\u001b[0m\u001b[0;34m\u001b[0m\u001b[0;34m\u001b[0m\u001b[0m\n\u001b[0m\u001b[1;32m    300\u001b[0m     \u001b[0;32mreturn\u001b[0m \u001b[0mresult\u001b[0m\u001b[0;34m\u001b[0m\u001b[0;34m\u001b[0m\u001b[0m\n\u001b[1;32m    301\u001b[0m \u001b[0;34m\u001b[0m\u001b[0m\n",
      "\u001b[0;32m~/opt/anaconda3/lib/python3.8/site-packages/sklearn/utils/validation.py\u001b[0m in \u001b[0;36mcheck_consistent_length\u001b[0;34m(*arrays)\u001b[0m\n\u001b[1;32m    260\u001b[0m     \u001b[0muniques\u001b[0m \u001b[0;34m=\u001b[0m \u001b[0mnp\u001b[0m\u001b[0;34m.\u001b[0m\u001b[0munique\u001b[0m\u001b[0;34m(\u001b[0m\u001b[0mlengths\u001b[0m\u001b[0;34m)\u001b[0m\u001b[0;34m\u001b[0m\u001b[0;34m\u001b[0m\u001b[0m\n\u001b[1;32m    261\u001b[0m     \u001b[0;32mif\u001b[0m \u001b[0mlen\u001b[0m\u001b[0;34m(\u001b[0m\u001b[0muniques\u001b[0m\u001b[0;34m)\u001b[0m \u001b[0;34m>\u001b[0m \u001b[0;36m1\u001b[0m\u001b[0;34m:\u001b[0m\u001b[0;34m\u001b[0m\u001b[0;34m\u001b[0m\u001b[0m\n\u001b[0;32m--> 262\u001b[0;31m         raise ValueError(\"Found input variables with inconsistent numbers of\"\n\u001b[0m\u001b[1;32m    263\u001b[0m                          \" samples: %r\" % [int(l) for l in lengths])\n\u001b[1;32m    264\u001b[0m \u001b[0;34m\u001b[0m\u001b[0m\n",
      "\u001b[0;31mValueError\u001b[0m: Found input variables with inconsistent numbers of samples: [1, 998]"
     ]
    }
   ],
   "source": [
    "X_train, X_test, y_train, y_test = train_test_split(X, y, test_size=0.2, random_state=25)\n",
    "tfidf_vectorizer = TfidfVectorizer(max_features=1000, stop_words='english')\n",
    "\n",
    "X_train_tfidf = tfidf_vectorizer.fit_transform(X_train)\n",
    "X_test_tfidf = tfidf_vectorizer.transform(X_test)"
   ]
  },
  {
   "cell_type": "code",
   "execution_count": 7,
   "metadata": {},
   "outputs": [],
   "source": [
    "# Check for NaN values in X_train and y_train\n",
    "\n",
    "has_nan = np.isnan(X_test).any() \n",
    "\n",
    "if has_nan:\n",
    "    print(\"NaN in xtrain exists .\")"
   ]
  },
  {
   "cell_type": "code",
   "execution_count": 8,
   "metadata": {},
   "outputs": [
    {
     "name": "stdout",
     "output_type": "stream",
     "text": [
      "[[0.         0.         0.         ... 0.         0.         0.        ]\n",
      " [0.         0.         0.         ... 0.         0.         0.        ]\n",
      " [0.         0.         0.         ... 0.         0.         0.        ]\n",
      " ...\n",
      " [0.         0.         0.         ... 0.         0.06240833 0.03508806]\n",
      " [0.         0.         0.         ... 0.         0.         0.        ]\n",
      " [0.         0.         0.         ... 0.28351871 0.         0.11946761]]\n"
     ]
    }
   ],
   "source": [
    "print(X_train)"
   ]
  },
  {
   "cell_type": "code",
   "execution_count": 39,
   "metadata": {},
   "outputs": [
    {
     "data": {
      "text/plain": [
       "RandomForestClassifier(min_samples_split=5, n_estimators=300, random_state=38)"
      ]
     },
     "execution_count": 39,
     "metadata": {},
     "output_type": "execute_result"
    }
   ],
   "source": [
    "# consp_classifier = LogisticRegression()\n",
    "consp_classifier = MultinomialNB()\n",
    "\n",
    "#classifier training\n",
    "consp_classifier.fit(X_train_tfidf, y_train)"
   ]
  },
  {
   "cell_type": "code",
   "execution_count": 40,
   "metadata": {},
   "outputs": [
    {
     "name": "stdout",
     "output_type": "stream",
     "text": [
      "Accuracy: 0.715\n",
      "Precision: 0.8\n",
      "Recall: 0.5882352941176471\n",
      "F1 Score: 0.6779661016949153\n",
      "ROC-AUC: 0.7730092036814726\n"
     ]
    },
    {
     "data": {
      "image/png": "[encoded data removed]",
      "text/plain": [
       "<Figure size 432x288 with 1 Axes>"
      ]
     },
     "metadata": {
      "needs_background": "light"
     },
     "output_type": "display_data"
    }
   ],
   "source": [
    "from sklearn.metrics import accuracy_score, precision_score, recall_score, f1_score, roc_auc_score, roc_curve, auc\n",
    "import matplotlib.pyplot as plt\n",
    "\n",
    "\n",
    "\n",
    "y_pred = consp_classifier.predict(X_test)\n",
    "# performance metrics: \n",
    "# Accuracy\n",
    "accuracy = accuracy_score(y_test, y_pred)\n",
    "print(f\"Accuracy: {accuracy}\")\n",
    "\n",
    "# Precision\n",
    "precision = precision_score(y_test, y_pred)\n",
    "print(f\"Precision: {precision}\")\n",
    "\n",
    "# Recall\n",
    "recall = recall_score(y_test, y_pred)\n",
    "print(f\"Recall: {recall}\")\n",
    "\n",
    "# F1 score\n",
    "f1 = f1_score(y_test, y_pred)\n",
    "print(f\"F1 Score: {f1}\")\n",
    "\n",
    "# ROC-AUC score\n",
    "roc_auc = roc_auc_score(y_test, consp_classifier.predict_proba(X_test)[:, 1])\n",
    "print(f\"ROC-AUC: {roc_auc}\")\n",
    "\n",
    "# Plot ROC curve\n",
    "fp, tp, thresholds = roc_curve(y_test, consp_classifier.predict_proba(X_test)[:, 1])\n",
    "roc_auc = auc(fp, tp)\n",
    "\n",
    "plt.figure()\n",
    "plt.plot(\n",
    "        fp, \n",
    "        tp, \n",
    "        color='darkorange',\n",
    "        lw=2, \n",
    "        label='ROC curve (area = %0.2f)' % roc_auc)\n",
    "plt.plot([0, 1], [0, 1], color='navy', lw=2, linestyle='--')\n",
    "plt.xlim([0.0, 1.0])\n",
    "plt.ylim([0.0, 1.05])\n",
    "plt.xlabel('False Positive Rate')\n",
    "plt.ylabel('True Positive Rate')\n",
    "plt.title('Receiver Operating Characteristic')\n",
    "plt.legend(loc=\"lower right\")\n",
    "plt.show()\n"
   ]
  },
  {
   "cell_type": "code",
   "execution_count": null,
   "metadata": {},
   "outputs": [],
   "source": [
    "\n",
    "\n"
   ]
  },
  {
   "cell_type": "code",
   "execution_count": 41,
   "metadata": {},
   "outputs": [
    {
     "data": {
      "text/plain": [
       "['consp_classifier.joblib']"
      ]
     },
     "execution_count": 41,
     "metadata": {},
     "output_type": "execute_result"
    }
   ],
   "source": [
    "import joblib\n",
    "\n",
    "# Save the TF-IDF vectorizer model\n",
    "joblib.dump(tfidf_vectorizer, 'tfidf_vectorizer.joblib')\n",
    "\n",
    "# Save the model\n",
    "joblib.dump(consp_classifier, 'consp_classifier.joblib')\n",
    "\n"
   ]
  },
  {
   "cell_type": "code",
   "execution_count": 34,
   "metadata": {},
   "outputs": [
    {
     "name": "stdout",
     "output_type": "stream",
     "text": [
      "Best Hyperparameters: {'max_depth': None, 'min_samples_leaf': 1, 'min_samples_split': 5, 'n_estimators': 300}\n",
      "Accuracy: 0.72\n",
      "Precision: 0.8194444444444444\n",
      "Recall: 0.5784313725490197\n",
      "F1 Score: 0.67816091954023\n",
      "ROC-AUC: 0.7811124449779911\n"
     ]
    }
   ],
   "source": [
    "from sklearn.model_selection import GridSearchCV\n",
    "\n",
    "# Define a parameter grid to search over\n",
    "param_grid = {\n",
    "    'n_estimators': [100, 200, 300],  # Number of trees in the forest\n",
    "    'max_depth': [None, 10, 20, 30],  # Maximum depth of the tree\n",
    "    'min_samples_split': [2, 5, 10],  # Minimum samples required to split an internal node\n",
    "    'min_samples_leaf': [1, 2, 4]  # Minimum samples required in a leaf node\n",
    "}\n",
    "\n",
    "# Create a grid search\n",
    "grid_search = GridSearchCV(\n",
    "    RandomForestClassifier(random_state=42),\n",
    "    param_grid,\n",
    "    cv=5,  # 5-fold cross-validation\n",
    "    scoring='accuracy',  # You can change the scoring metric as needed\n",
    "    n_jobs=-1,  # Use all available CPU cores for faster searching\n",
    ")\n",
    "\n",
    "# Fit the grid search to your data\n",
    "grid_search.fit(X_train, y_train)\n",
    "\n",
    "# Get the best hyperparameters found during the search\n",
    "best_params = grid_search.best_params_\n",
    "\n",
    "# Train a RandomForestClassifier with the best hyperparameters\n",
    "best_consp_classifier = RandomForestClassifier(random_state=42, **best_params)\n",
    "best_consp_classifier.fit(X_train, y_train)\n",
    "\n",
    "# Predict on the test set using the best classifier\n",
    "y_pred = best_consp_classifier.predict(X_test)\n",
    "\n",
    "# Calculate performance metrics\n",
    "accuracy = accuracy_score(y_test, y_pred)\n",
    "precision = precision_score(y_test, y_pred)\n",
    "recall = recall_score(y_test, y_pred)\n",
    "f1 = f1_score(y_test, y_pred)\n",
    "roc_auc = roc_auc_score(y_test, best_consp_classifier.predict_proba(X_test)[:, 1])\n",
    "\n",
    "print(\"Best Hyperparameters:\", best_params)\n",
    "print(f\"Accuracy: {accuracy}\")\n",
    "print(f\"Precision: {precision}\")\n",
    "print(f\"Recall: {recall}\")\n",
    "print(f\"F1 Score: {f1}\")\n",
    "print(f\"ROC-AUC: {roc_auc}\")\n",
    "\n",
    "\n"
   ]
  }
 ],
 "metadata": {
  "kernelspec": {
   "display_name": "base",
   "language": "python",
   "name": "python3"
  },
  "language_info": {
   "codemirror_mode": {
    "name": "ipython",
    "version": 3
   },
   "file_extension": ".py",
   "mimetype": "text/x-python",
   "name": "python",
   "nbconvert_exporter": "python",
   "pygments_lexer": "ipython3",
   "version": "3.8.8"
  }
 },
 "nbformat": 4,
 "nbformat_minor": 2
}
